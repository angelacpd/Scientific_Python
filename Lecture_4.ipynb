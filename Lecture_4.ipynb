{
 "cells": [
  {
   "cell_type": "markdown",
   "metadata": {},
   "source": [
    "# CME 193 - Lecture 4\n",
    "\n",
    "- Random numbers and histograms\n",
    "- Power method walkthrough\n",
    "- Linear algebra functions\n"
   ]
  },
  {
   "cell_type": "markdown",
   "metadata": {},
   "source": [
    "## Random numbers\n",
    "\n",
    "see [the documentation](https://docs.scipy.org/doc/numpy-1.14.0/reference/routines.random.html)\n",
    "\n",
    "* `rng.rand(d0,d1,...,dn)`, Random values in a given shape\n",
    "* `rng.randn(d0, d1, ...,dn)`, Random standard normal\n",
    "* `rng.randint(lo, hi, size)`, Random integers `[lo, hi)`\n",
    "* `rng.choice(a, size, repl, p)`, Sample from a\n",
    "* `rng.shuffle(a)`, Permutation (in-place)\n",
    "* `rng.permutation(a)`, Permutation (new array)\n",
    "* Also, have parameterized distributions: `beta`, `binomial`, `chisquare`, `exponential`, `dirichlet`, `gamma`, `laplace`, `lognormal`, `pareto`, `poisson`, `power`..."
   ]
  },
  {
   "cell_type": "code",
   "execution_count": 14,
   "metadata": {},
   "outputs": [],
   "source": [
    "import numpy as np"
   ]
  },
  {
   "cell_type": "code",
   "execution_count": 18,
   "metadata": {},
   "outputs": [],
   "source": [
    "import numpy.linalg as la"
   ]
  },
  {
   "cell_type": "code",
   "execution_count": 1,
   "metadata": {},
   "outputs": [],
   "source": [
    "import numpy.random as rng"
   ]
  },
  {
   "cell_type": "code",
   "execution_count": 2,
   "metadata": {},
   "outputs": [],
   "source": [
    "import matplotlib.pyplot as plt"
   ]
  },
  {
   "cell_type": "code",
   "execution_count": 3,
   "metadata": {},
   "outputs": [
    {
     "data": {
      "text/plain": [
       "-8"
      ]
     },
     "execution_count": 3,
     "metadata": {},
     "output_type": "execute_result"
    }
   ],
   "source": [
    "rng.randint(-10,10)"
   ]
  },
  {
   "cell_type": "code",
   "execution_count": 4,
   "metadata": {},
   "outputs": [
    {
     "data": {
      "text/plain": [
       "0"
      ]
     },
     "execution_count": 4,
     "metadata": {},
     "output_type": "execute_result"
    }
   ],
   "source": [
    "rng.choice([0,2,4,5], p=[0.8, 0.1, 0.0, 0.1])"
   ]
  },
  {
   "cell_type": "markdown",
   "metadata": {},
   "source": [
    "### Histograms"
   ]
  },
  {
   "cell_type": "code",
   "execution_count": 5,
   "metadata": {},
   "outputs": [],
   "source": [
    "x1 = rng.normal(2,3,1000)\n",
    "x2 = rng.normal(1,5,1000)"
   ]
  },
  {
   "cell_type": "code",
   "execution_count": 6,
   "metadata": {},
   "outputs": [
    {
     "data": {
      "image/png": "[encoded data removed]",
      "text/plain": [
       "<Figure size 432x288 with 1 Axes>"
      ]
     },
     "metadata": {
      "needs_background": "light"
     },
     "output_type": "display_data"
    }
   ],
   "source": [
    "plt.hist(x1,bins=100);"
   ]
  },
  {
   "cell_type": "code",
   "execution_count": 7,
   "metadata": {},
   "outputs": [
    {
     "data": {
      "image/png": "[encoded data removed]",
      "text/plain": [
       "<Figure size 432x288 with 1 Axes>"
      ]
     },
     "metadata": {
      "needs_background": "light"
     },
     "output_type": "display_data"
    }
   ],
   "source": [
    "plt.hist(x1,histtype='step');\n",
    "plt.hist(x2,histtype='step');"
   ]
  },
  {
   "cell_type": "code",
   "execution_count": 8,
   "metadata": {},
   "outputs": [
    {
     "data": {
      "image/png": "[encoded data removed]",
      "text/plain": [
       "<Figure size 432x288 with 1 Axes>"
      ]
     },
     "metadata": {
      "needs_background": "light"
     },
     "output_type": "display_data"
    }
   ],
   "source": [
    "plt.hist(x1,bins=100);"
   ]
  },
  {
   "cell_type": "code",
   "execution_count": 9,
   "metadata": {},
   "outputs": [
    {
     "data": {
      "image/png": "[encoded data removed]",
      "text/plain": [
       "<Figure size 432x288 with 1 Axes>"
      ]
     },
     "metadata": {
      "needs_background": "light"
     },
     "output_type": "display_data"
    }
   ],
   "source": [
    "plt.hist2d(x1,x2);"
   ]
  },
  {
   "cell_type": "markdown",
   "metadata": {},
   "source": [
    "## Power method\n",
    "\n",
    "Power method is an algorithm for finding the largest eigenpair of a matrix.  We'll assume that we're working with symmetric/hermitian matrices for simplicity.  Recall the largest eigenvector of a matrix $A$ solves the variational problem:\n",
    "$$\\max_{\\|v\\|_2 = 1} v^T A v$$\n",
    "The eigenvalue is the value $\\lambda = v^T A v$.\n",
    "* generate a random symmetric matrix (however you like).\n",
    "* Find the largest eigenpair using the power method\n",
    "* Compare the answer with what you would get from numpy.linalg.eigh\n",
    "\n",
    "The power method uses iterated matrix-vector multiplication to find the largest magnitude eigenvalue of $A$.  \n",
    "```\n",
    "    input) A: an n x n symmetric matrix\n",
    "    outputs) l: the eigenvalue with the largest absolute value\n",
    "             v: the corresponding eigenvector\n",
    "\n",
    "    v <- random vector of length n\n",
    "    while l has not converged:\n",
    "        v <- A v\n",
    "        v <- v / ||v||_2\n",
    "        l <- v^T A v\n",
    "```\n",
    "\n",
    "turn the above pseudo-code into a python function that implements power method. How does the result compare to `eigh`?"
   ]
  },
  {
   "cell_type": "code",
   "execution_count": 11,
   "metadata": {},
   "outputs": [
    {
     "data": {
      "text/plain": [
       "array([[ 0.10915397,  1.37834118, -0.06778324, -0.36871228, -0.76335815,\n",
       "         0.20338152, -1.78078476, -0.33616052, -1.33621437, -0.84551718],\n",
       "       [-1.01003008, -0.25830771, -0.16792936,  0.79025791, -0.6998207 ,\n",
       "         1.22064642,  0.81399122,  0.29782691,  0.48639968, -0.29235818],\n",
       "       [-0.71485128, -0.6659414 ,  2.10146622,  0.24673327, -1.23183914,\n",
       "        -0.22786444, -0.85918728, -0.70461675, -0.44876023,  1.5407439 ],\n",
       "       [ 0.61489982, -0.48019441, -1.08884676, -1.00861735, -1.25263235,\n",
       "        -0.82452154,  0.19242248, -0.94873366,  0.15356091, -0.73097889],\n",
       "       [-0.14282695,  0.33314345, -0.41956071,  1.08953118,  0.11664555,\n",
       "         0.64487736, -0.97857788, -0.83776003, -0.39991652,  1.11631907],\n",
       "       [ 0.15088736,  1.02775248, -1.37093293,  0.69020406,  0.06299308,\n",
       "         1.55720944, -0.37131543, -1.01482934, -0.26543515,  1.60673187],\n",
       "       [-0.3667578 , -0.16969188, -0.89302045, -0.29912972,  1.41552336,\n",
       "        -0.02989805,  0.81893675, -0.84746459, -1.2514895 ,  0.27854315],\n",
       "       [ 1.49870338, -0.80618213,  2.21222379,  0.73978108,  0.09704517,\n",
       "         0.07606142,  0.11313858, -0.85380466,  1.11414463, -0.38028839],\n",
       "       [ 0.7498621 ,  0.26299425,  0.49912426, -1.0622119 ,  0.31604792,\n",
       "        -0.12880943, -1.06832573, -1.16382317,  3.00493696, -0.8611658 ],\n",
       "       [ 0.54709797, -0.0373336 ,  0.37307909,  0.66179263, -0.24859424,\n",
       "         1.33325897,  1.74049276,  0.07122786, -2.09644855, -0.88899586]])"
      ]
     },
     "execution_count": 11,
     "metadata": {},
     "output_type": "execute_result"
    }
   ],
   "source": [
    "# Build a 10x10 matrix with random elements\n",
    "A = rng.randn(10,10)\n",
    "A"
   ]
  },
  {
   "cell_type": "code",
   "execution_count": 12,
   "metadata": {},
   "outputs": [
    {
     "data": {
      "text/plain": [
       "array([[ 0.10915397,  0.18415555, -0.39131726,  0.12309377, -0.45309255,\n",
       "         0.17713444, -1.07377128,  0.58127143, -0.29317614, -0.1492096 ],\n",
       "       [ 0.18415555, -0.25830771, -0.41693538,  0.15503175, -0.18333863,\n",
       "         1.12419945,  0.32214967, -0.25417761,  0.37469696, -0.16484589],\n",
       "       [-0.39131726, -0.41693538,  2.10146622, -0.42105675, -0.82569992,\n",
       "        -0.79939869, -0.87610387,  0.75380352,  0.02518202,  0.95691149],\n",
       "       [ 0.12309377,  0.15503175, -0.42105675, -1.00861735, -0.08155059,\n",
       "        -0.06715874, -0.05335362, -0.10447629, -0.45432549, -0.03459313],\n",
       "       [-0.45309255, -0.18333863, -0.82569992, -0.08155059,  0.11664555,\n",
       "         0.35393522,  0.21847274, -0.37035743, -0.0419343 ,  0.43386241],\n",
       "       [ 0.17713444,  1.12419945, -0.79939869, -0.06715874,  0.35393522,\n",
       "         1.55720944, -0.20060674, -0.46938396, -0.19712229,  1.46999542],\n",
       "       [-1.07377128,  0.32214967, -0.87610387, -0.05335362,  0.21847274,\n",
       "        -0.20060674,  0.81893675, -0.367163  , -1.15990761,  1.00951795],\n",
       "       [ 0.58127143, -0.25417761,  0.75380352, -0.10447629, -0.37035743,\n",
       "        -0.46938396, -0.367163  , -0.85380466, -0.02483927, -0.15453026],\n",
       "       [-0.29317614,  0.37469696,  0.02518202, -0.45432549, -0.0419343 ,\n",
       "        -0.19712229, -1.15990761, -0.02483927,  3.00493696, -1.47880718],\n",
       "       [-0.1492096 , -0.16484589,  0.95691149, -0.03459313,  0.43386241,\n",
       "         1.46999542,  1.00951795, -0.15453026, -1.47880718, -0.88899586]])"
      ]
     },
     "execution_count": 12,
     "metadata": {},
     "output_type": "execute_result"
    }
   ],
   "source": [
    "# Make the matrix symmetric\n",
    "A = (A + A.T)/2\n",
    "A"
   ]
  },
  {
   "cell_type": "code",
   "execution_count": 13,
   "metadata": {},
   "outputs": [
    {
     "data": {
      "text/plain": [
       "<matplotlib.image.AxesImage at 0x1a8bd543648>"
      ]
     },
     "execution_count": 13,
     "metadata": {},
     "output_type": "execute_result"
    },
    {
     "data": {
      "image/png": "[encoded data removed]",
      "text/plain": [
       "<Figure size 432x288 with 1 Axes>"
      ]
     },
     "metadata": {
      "needs_background": "light"
     },
     "output_type": "display_data"
    }
   ],
   "source": [
    "# Show the matrix to visualize the symmetry\n",
    "plt.imshow(A)"
   ]
  },
  {
   "cell_type": "code",
   "execution_count": 15,
   "metadata": {},
   "outputs": [],
   "source": [
    "X = np.ones((5,5))"
   ]
  },
  {
   "cell_type": "code",
   "execution_count": 16,
   "metadata": {},
   "outputs": [],
   "source": [
    "def power_method(A, tol=1e-5):\n",
    "    \"\"\"\n",
    "    Power method\n",
    "    Arguments:\n",
    "        A: symmetric matrix\n",
    "        tol: tolerance\n",
    "    \"\"\"\n",
    "    n = A.shape[0]\n",
    "    v = rng.randn(n)\n",
    "    ls = [1,2]\n",
    "    while abs(ls[-1] - ls[-2]) > tol:\n",
    "        v = A @ v\n",
    "        v /= np.sqrt(np.sum(v*v))\n",
    "        ls += [v @ A @ v]\n",
    "    return ls[-1]"
   ]
  },
  {
   "cell_type": "code",
   "execution_count": 17,
   "metadata": {},
   "outputs": [
    {
     "data": {
      "text/plain": [
       "4.4318044114992965"
      ]
     },
     "execution_count": 17,
     "metadata": {},
     "output_type": "execute_result"
    }
   ],
   "source": [
    "power_method(A, tol=1e-5)"
   ]
  },
  {
   "cell_type": "markdown",
   "metadata": {},
   "source": [
    "# Linear Algebra in NumPy\n",
    "\n",
    "We'll start with \n",
    "```python\n",
    "import numpy.linalg as la\n",
    "```\n",
    "`numpy` is the *package*.  `linalg` is a *module* in the package.\n",
    "\n",
    "You can find a full list of available operations/decompositions in [the documentation](https://docs.scipy.org/doc/numpy-1.15.1/reference/routines.linalg.html)\n",
    "\n",
    "* `la.eye(3)`, Identity matrix\n",
    "* `la.trace(A)`, Trace\n",
    "* `la.column_stack((A,B))`, Stack column wise\n",
    "* `la.row_stack((A,B,A))`, Stack row wise\n",
    "* `la.qr`, Computes the QR decomposition\n",
    "* `la.cholesky`, Computes the Cholesky decomposition\n",
    "* `la.inv(A)`, Inverse\n",
    "* `la.solve(A,b)`, Solves $Ax = b$ for $A$ full rank\n",
    "* `la.lstsq(A,b)`, Solves $\\arg\\min_x \\|Ax-b\\|_2$\n",
    "* `la.eig(A)`, Eigenvalue decomposition\n",
    "* `la.eigh(A)`, Eigenvalue decomposition for\n",
    "symmetric or hermitian\n",
    "* `la.eigvals(A)`, Computes eigenvalues.\n",
    "* `la.svd(A, full)`, Singular value decomposition\n",
    "* `la.pinv(A)`, Computes pseudo-inverse of A"
   ]
  },
  {
   "cell_type": "code",
   "execution_count": 19,
   "metadata": {},
   "outputs": [
    {
     "name": "stdout",
     "output_type": "stream",
     "text": [
      "A = \n",
      " [[-1.06481037 -1.17215707 -0.87015494]\n",
      " [ 1.42231519  0.63263265  0.40739508]]\n",
      "U = \n",
      " [[-0.75111918  0.66016663]\n",
      " [ 0.66016663  0.75111918]]\n",
      "S = \n",
      " [2.3578321  0.54290518]\n",
      "V = \n",
      " [[ 0.73744204  0.55053649  0.39126565]\n",
      " [ 0.67300139 -0.55007114 -0.49446018]\n",
      " [ 0.05699444 -0.62795805  0.77615741]]\n"
     ]
    }
   ],
   "source": [
    "# Example of Singular Value Decomposition (SVD)\n",
    "A = np.random.normal(0, 1, (2,3))\n",
    "U, S, V = la.svd(A)\n",
    "print(\"A = \\n\", A)\n",
    "print(\"U = \\n\", U)\n",
    "print(\"S = \\n\", S)\n",
    "print(\"V = \\n\", V)"
   ]
  },
  {
   "cell_type": "code",
   "execution_count": 20,
   "metadata": {},
   "outputs": [
    {
     "name": "stdout",
     "output_type": "stream",
     "text": [
      "A = \n",
      " [[0. 1.]\n",
      " [2. 3.]]\n",
      "x = \n",
      " [1. 2.]\n",
      "b = \n",
      " [2. 8.]\n",
      "x2 = \n",
      " [1. 2.]\n"
     ]
    }
   ],
   "source": [
    "A = np.arange(0, 4, 1.0).reshape(2,2)\n",
    "x = np.array([1.0, 2.0])\n",
    "b = A @ x\n",
    "# x2 <- A \\ b\n",
    "x2 = la.solve(A, b)\n",
    "print(\"A = \\n\",A)\n",
    "print(\"x = \\n\", x)\n",
    "print(\"b = \\n\", b)\n",
    "print(\"x2 = \\n\", x2)"
   ]
  },
  {
   "cell_type": "code",
   "execution_count": null,
   "metadata": {},
   "outputs": [],
   "source": []
  }
 ],
 "metadata": {
  "kernelspec": {
   "display_name": "Python 3",
   "language": "python",
   "name": "python3"
  },
  "language_info": {
   "codemirror_mode": {
    "name": "ipython",
    "version": 3
   },
   "file_extension": ".py",
   "mimetype": "text/x-python",
   "name": "python",
   "nbconvert_exporter": "python",
   "pygments_lexer": "ipython3",
   "version": "3.7.6"
  }
 },
 "nbformat": 4,
 "nbformat_minor": 4
}
