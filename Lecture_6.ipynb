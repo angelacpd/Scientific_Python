{
 "cells": [
  {
   "cell_type": "markdown",
   "metadata": {},
   "source": [
    "# CME 193 - Lecture 6 - Pandas\n",
    "\n",
    "Pandas is a package for working with tabular data"
   ]
  },
  {
   "cell_type": "markdown",
   "metadata": {},
   "source": [
    "# Pandas\n",
    "\n",
    "[Pandas](https://pandas.pydata.org/) is a Python library for dealing with data.  The main thing you'll hear people talk about is the DataFrame object (inspired by R), which is designed to hold tabular data.\n",
    "\n",
    "## Difference between a DataFrame and NumPy Array\n",
    "\n",
    "Pandas DataFrames and NumPy arrays both have similarities to Python lists.  \n",
    "* Numpy arrays are designed to contain data of one type (e.g. Int, Float, ...)\n",
    "* DataFrames can contain different types of data (Int, Float, String, ...)\n",
    "    * Usually each column has the same type\n",
    "    \n",
    "    \n",
    "Both arrays and DataFrames are optimized for storage/performance beyond Python lists\n",
    "\n",
    "Pandas is also powerful for working with missing data, working with time series data, for reading and writing your data, for reshaping, grouping, merging your data, ...\n",
    "\n",
    "## Key Features\n",
    "\n",
    "* File I/O - integrations with multiple file formats\n",
    "* Working with missing data (.dropna(), pd.isnull())\n",
    "* Normal table operations: merging and joining, groupby functionality, reshaping via stack, and pivot_tables,\n",
    "* Time series-specific functionality:\n",
    "    * date range generation and frequency conversion, moving window statistics/regressions, date shifting and lagging, etc.\n",
    "* Built in Matplotlib integration\n",
    "\n",
    "## Other Strengths\n",
    "\n",
    "* Strong community, support, and documentation\n",
    "* Size mutability: columns can be inserted and deleted from DataFrame and higher dimensional objects\n",
    "* Powerful, flexible group by functionality to perform split-apply-combine operations on data sets, for both aggregating and transforming data\n",
    "* Make it easy to convert ragged, differently-indexed data in other Python and NumPy data structures into DataFrame objects Intelligent label-based slicing, fancy indexing, and subsetting of large data sets\n",
    "\n",
    "## Python/Pandas vs. R\n",
    "\n",
    "* R is a language dedicated to statistics. Python is a general-purpose language with statistics modules.\n",
    "* R has more statistical analysis features than Python, and specialized syntaxes.\n",
    "\n",
    "However, when it comes to building complex analysis pipelines that mix statistics with e.g. image analysis, text mining, or control of a physical experiment, the richness of Python is an invaluable asset."
   ]
  },
  {
   "cell_type": "markdown",
   "metadata": {},
   "source": [
    "# Getting Started\n",
    "\n",
    "[Here](https://pandas.pydata.org/pandas-docs/stable/generated/pandas.DataFrame.html) is a link to the documentation for DataFrames"
   ]
  },
  {
   "cell_type": "code",
   "execution_count": 3,
   "metadata": {},
   "outputs": [],
   "source": [
    "import pandas as pd\n",
    "import numpy as np"
   ]
  },
  {
   "cell_type": "markdown",
   "metadata": {},
   "source": [
    "## Objects and Basic Creation\n",
    "\n",
    "| Name | Dimensions | Description  |\n",
    "| ------:| -----------:|----------|\n",
    "| ```pd.Series``` | 1 | 1D labeled homogeneously-typed array |\n",
    "| ```pd.DataFrame```  | 2| General 2D labeled, size-mutable tabular structure |\n",
    "| ```pd.Panel``` | 3|  General 3D labeled, also size-mutable array |\n",
    "\n",
    "# Series\n",
    "## What are they?\n",
    "- Series is a one-dimensional labeled array capable of holding any data type (integers, strings, floating point numbers, Python objects, etc.). The axis labels are collectively referred to as the index.\n",
    "- Basic method to create a series: \n",
    "```python \n",
    "s = pd.Series(data, index = index) ```\n",
    "- Data Can be many things:\n",
    "    * A Python Dictionary\n",
    "    * An ndarray (or reg. list)\n",
    "    * A scalar \n",
    "- The passed index is a list of axis labels (which varies on what data is)\n",
    "\n",
    "Think \"Series = Vector + labels\""
   ]
  },
  {
   "cell_type": "code",
   "execution_count": 4,
   "metadata": {},
   "outputs": [
    {
     "name": "stdout",
     "output_type": "stream",
     "text": [
      "<class 'pandas.core.series.Series'>\n",
      "0     1\n",
      "1     2\n",
      "2     4\n",
      "3     8\n",
      "4    16\n",
      "5    32\n",
      "6    64\n",
      "dtype: int64\n"
     ]
    }
   ],
   "source": [
    "first_series = pd.Series([1,2,4,8,16,32,64])\n",
    "print(type(first_series))\n",
    "print(first_series)"
   ]
  },
  {
   "cell_type": "code",
   "execution_count": 8,
   "metadata": {},
   "outputs": [
    {
     "name": "stdout",
     "output_type": "stream",
     "text": [
      "a    0.285041\n",
      "b   -0.375502\n",
      "c   -0.029911\n",
      "d    1.617153\n",
      "e   -0.122967\n",
      "dtype: float64\n",
      "--------------------------------------------------\n",
      "Index(['a', 'b', 'c', 'd', 'e'], dtype='object')\n"
     ]
    }
   ],
   "source": [
    "s = pd.Series(np.random.randn(5), index=['a', 'b', 'c', 'd', 'e'])\n",
    "print(s)\n",
    "print('-'*50)\n",
    "print(s.index)"
   ]
  },
  {
   "cell_type": "markdown",
   "metadata": {},
   "source": [
    "If Data is a dictionary, if index is passed the values in data corresponding to the labels in the index will be pulled out, otherwise an index will be constructed from the sorted keys of the dict"
   ]
  },
  {
   "cell_type": "code",
   "execution_count": 10,
   "metadata": {},
   "outputs": [
    {
     "data": {
      "text/plain": [
       "a      [0.0, 0]\n",
       "b    {'1': 1.0}\n",
       "c             2\n",
       "dtype: object"
      ]
     },
     "execution_count": 10,
     "metadata": {},
     "output_type": "execute_result"
    }
   ],
   "source": [
    "d = {'a': [0., 0], 'b': {'1':1.}, 'c':2.}\n",
    "pd.Series(d)"
   ]
  },
  {
   "cell_type": "markdown",
   "metadata": {},
   "source": [
    "You can create a series from a scalar, but need to specify indices"
   ]
  },
  {
   "cell_type": "code",
   "execution_count": 11,
   "metadata": {},
   "outputs": [
    {
     "data": {
      "text/plain": [
       "a    5\n",
       "b    5\n",
       "c    5\n",
       "dtype: int64"
      ]
     },
     "execution_count": 11,
     "metadata": {},
     "output_type": "execute_result"
    }
   ],
   "source": [
    "pd.Series(5, index=['a', 'b', 'c'])"
   ]
  },
  {
   "cell_type": "markdown",
   "metadata": {},
   "source": [
    "You can index and slice series like you would numpy arrays/python lists"
   ]
  },
  {
   "cell_type": "code",
   "execution_count": 47,
   "metadata": {},
   "outputs": [
    {
     "name": "stdout",
     "output_type": "stream",
     "text": [
      "a    0.047532\n",
      "b    1.117764\n",
      "c   -0.926234\n",
      "d    0.240809\n",
      "e   -0.139864\n",
      "dtype: float64\n"
     ]
    }
   ],
   "source": [
    "s = pd.Series(np.random.randn(5), index=['a', 'b', 'c', 'd', 'e'])\n",
    "print(s)"
   ]
  },
  {
   "cell_type": "code",
   "execution_count": 48,
   "metadata": {},
   "outputs": [
    {
     "name": "stdout",
     "output_type": "stream",
     "text": [
      "0.04753222276252921\n",
      "##################################################\n",
      "a    0.047532\n",
      "b    1.117764\n",
      "c   -0.926234\n",
      "dtype: float64\n",
      "##################################################\n"
     ]
    }
   ],
   "source": [
    "end_string = '\\n' + '#'*50 + '\\n'\n",
    "print(s[0], end=end_string)\n",
    "# slicing\n",
    "print(s[:3], end=end_string)"
   ]
  },
  {
   "cell_type": "code",
   "execution_count": 49,
   "metadata": {},
   "outputs": [
    {
     "name": "stdout",
     "output_type": "stream",
     "text": [
      "0.04753222276252921\n",
      "--------------------------------------------------\n",
      "a    0.047532\n",
      "b    1.117764\n",
      "c   -0.926234\n",
      "dtype: float64\n",
      "--------------------------------------------------\n"
     ]
    }
   ],
   "source": [
    "end_string = '\\n' + '-'*50 + '\\n'\n",
    "print(s[0], end=end_string)\n",
    "# slicing\n",
    "print(s[:3], end=end_string)"
   ]
  },
  {
   "cell_type": "code",
   "execution_count": 50,
   "metadata": {},
   "outputs": [
    {
     "data": {
      "text/plain": [
       "a    False\n",
       "b     True\n",
       "c    False\n",
       "d     True\n",
       "e    False\n",
       "dtype: bool"
      ]
     },
     "execution_count": 50,
     "metadata": {},
     "output_type": "execute_result"
    }
   ],
   "source": [
    "# Is the s element greater then the average of s?\n",
    "s > s.mean()"
   ]
  },
  {
   "cell_type": "code",
   "execution_count": 51,
   "metadata": {},
   "outputs": [
    {
     "name": "stdout",
     "output_type": "stream",
     "text": [
      "b    1.117764\n",
      "d    0.240809\n",
      "dtype: float64\n",
      "--------------------------------------------------\n",
      "a    1.048680\n",
      "b    3.058009\n",
      "c    0.396042\n",
      "d    1.272278\n",
      "e    0.869476\n",
      "dtype: float64\n",
      "--------------------------------------------------\n"
     ]
    }
   ],
   "source": [
    "# conditional max - index with booleans\n",
    "print(s[s > s.mean()], end=end_string)\n",
    "# elementwise function - vectorization\n",
    "print(np.exp(s), end=end_string)"
   ]
  },
  {
   "cell_type": "markdown",
   "metadata": {},
   "source": [
    "Series are also like dictionaries - you can access values using index labels"
   ]
  },
  {
   "cell_type": "code",
   "execution_count": 52,
   "metadata": {},
   "outputs": [
    {
     "name": "stdout",
     "output_type": "stream",
     "text": [
      "a    0.047532\n",
      "b    1.117764\n",
      "c   -0.926234\n",
      "d    0.240809\n",
      "e   -0.139864\n",
      "dtype: float64\n",
      "--------------------------------------------------\n",
      "0.04753222276252921\n",
      "--------------------------------------------------\n"
     ]
    }
   ],
   "source": [
    "print(s, end=end_string)\n",
    "print(s['a'], end=end_string)"
   ]
  },
  {
   "cell_type": "code",
   "execution_count": 53,
   "metadata": {},
   "outputs": [
    {
     "name": "stdout",
     "output_type": "stream",
     "text": [
      "a     0.047532\n",
      "b     1.117764\n",
      "c    -0.926234\n",
      "d     0.240809\n",
      "e    12.000000\n",
      "dtype: float64\n",
      "--------------------------------------------------\n",
      "False\n",
      "--------------------------------------------------\n",
      "None\n",
      "--------------------------------------------------\n",
      "12.0\n",
      "--------------------------------------------------\n"
     ]
    }
   ],
   "source": [
    "s['e'] = 12  # set element using index label\n",
    "print(s, end=end_string)\n",
    "print('f' in s, end=end_string)  # check for index label\n",
    "print(s.get('f', None), end=end_string)  # get item with index 'f' - if no such item return None\n",
    "print(s.get('e', None), end=end_string)"
   ]
  },
  {
   "cell_type": "markdown",
   "metadata": {},
   "source": [
    "### Series Attributes:\n",
    "\n",
    "- Get the index : \n",
    "```python \n",
    "s.index ``` \n",
    "- Get the values :\n",
    "``` python \n",
    "s.values ``` \n",
    "- Find the shape : \n",
    "``` python \n",
    "s.shape ``` "
   ]
  },
  {
   "cell_type": "code",
   "execution_count": 54,
   "metadata": {},
   "outputs": [
    {
     "data": {
      "text/plain": [
       "Index(['a', 'b', 'c', 'd', 'e'], dtype='object')"
      ]
     },
     "execution_count": 54,
     "metadata": {},
     "output_type": "execute_result"
    }
   ],
   "source": [
    "s.index"
   ]
  },
  {
   "cell_type": "code",
   "execution_count": 55,
   "metadata": {},
   "outputs": [
    {
     "data": {
      "text/plain": [
       "array([ 0.04753222,  1.11776391, -0.92623426,  0.24080936, 12.        ])"
      ]
     },
     "execution_count": 55,
     "metadata": {},
     "output_type": "execute_result"
    }
   ],
   "source": [
    "s.values"
   ]
  },
  {
   "cell_type": "code",
   "execution_count": 56,
   "metadata": {},
   "outputs": [
    {
     "data": {
      "text/plain": [
       "(5,)"
      ]
     },
     "execution_count": 56,
     "metadata": {},
     "output_type": "execute_result"
    }
   ],
   "source": [
    "s.shape"
   ]
  },
  {
   "cell_type": "markdown",
   "metadata": {},
   "source": [
    "### Series Iteration"
   ]
  },
  {
   "cell_type": "code",
   "execution_count": 57,
   "metadata": {},
   "outputs": [
    {
     "name": "stdout",
     "output_type": "stream",
     "text": [
      "a 0.04753222276252921\n",
      "b 1.1177639072831642\n",
      "c -0.9262342605999548\n",
      "d 0.2408093569053461\n",
      "e 12.0\n"
     ]
    }
   ],
   "source": [
    "for idx, val in s.iteritems():\n",
    "    print(idx, val)"
   ]
  },
  {
   "cell_type": "markdown",
   "metadata": {},
   "source": [
    "Sort by index or by value"
   ]
  },
  {
   "cell_type": "code",
   "execution_count": 58,
   "metadata": {},
   "outputs": [
    {
     "name": "stdout",
     "output_type": "stream",
     "text": [
      "c    -0.926234\n",
      "a     0.047532\n",
      "d     0.240809\n",
      "b     1.117764\n",
      "e    12.000000\n",
      "dtype: float64\n",
      "--------------------------------------------------\n",
      "a     0.047532\n",
      "b     1.117764\n",
      "c    -0.926234\n",
      "d     0.240809\n",
      "e    12.000000\n",
      "dtype: float64\n",
      "--------------------------------------------------\n"
     ]
    }
   ],
   "source": [
    "print(s.sort_values(), end=end_string)\n",
    "print(s.sort_index(), end=end_string)"
   ]
  },
  {
   "cell_type": "markdown",
   "metadata": {},
   "source": [
    "Find counts of unique values"
   ]
  },
  {
   "cell_type": "code",
   "execution_count": 59,
   "metadata": {},
   "outputs": [
    {
     "name": "stdout",
     "output_type": "stream",
     "text": [
      "2    4\n",
      "1    3\n",
      "0    3\n",
      "dtype: int64\n"
     ]
    }
   ],
   "source": [
    "s = pd.Series([0,0,0,1,1,1,2,2,2,2])\n",
    "sct = s.value_counts()\n",
    "print(sct)"
   ]
  },
  {
   "cell_type": "markdown",
   "metadata": {},
   "source": [
    "You can do just about anything you can do with a numpy array\n",
    "\n",
    "- Series.mean()\n",
    "- Series.median()\n",
    "- Series.mode()\n",
    "- Series.nsmallest(num)\n",
    "- Series.max ..."
   ]
  },
  {
   "cell_type": "code",
   "execution_count": 61,
   "metadata": {},
   "outputs": [
    {
     "name": "stdout",
     "output_type": "stream",
     "text": [
      "0\n",
      "--------------------------------------------------\n",
      "2\n",
      "--------------------------------------------------\n",
      "1.1\n",
      "--------------------------------------------------\n",
      "1.0\n",
      "--------------------------------------------------\n",
      "0    0\n",
      "1    0\n",
      "dtype: int64\n",
      "--------------------------------------------------\n"
     ]
    }
   ],
   "source": [
    "print(s.min(), end=end_string)\n",
    "print(s.max(), end=end_string)\n",
    "print(s.mean(), end=end_string)\n",
    "print(s.median(), end=end_string)\n",
    "print(s.nsmallest(2), end=end_string)"
   ]
  },
  {
   "cell_type": "markdown",
   "metadata": {},
   "source": [
    "## Exercise\n",
    "\n",
    "- Consider the series `s` of letters in a sentence.\n",
    "- What is count of each letter in the sentence, output a series which is sorted by the count\n",
    "- Create a list with only the top 5 common letters (not including space)"
   ]
  },
  {
   "cell_type": "code",
   "execution_count": 63,
   "metadata": {},
   "outputs": [],
   "source": [
    "s = pd.Series(list(\"Series is a one-dimensional labeled array capable of holding any data type (integers, strings, floating point numbers, Python objects, etc.). The axis labels are collectively referred to as the index.\"))"
   ]
  },
  {
   "cell_type": "code",
   "execution_count": 64,
   "metadata": {},
   "outputs": [
    {
     "data": {
      "text/plain": [
       "0      S\n",
       "1      e\n",
       "2      r\n",
       "3      i\n",
       "4      e\n",
       "      ..\n",
       "195    n\n",
       "196    d\n",
       "197    e\n",
       "198    x\n",
       "199    .\n",
       "Length: 200, dtype: object"
      ]
     },
     "execution_count": 64,
     "metadata": {},
     "output_type": "execute_result"
    }
   ],
   "source": [
    "s"
   ]
  },
  {
   "cell_type": "code",
   "execution_count": 66,
   "metadata": {},
   "outputs": [
    {
     "data": {
      "text/plain": [
       "     29\n",
       "e    23\n",
       "a    15\n",
       "t    12\n",
       "i    12\n",
       "n    12\n",
       "s    11\n",
       "l    11\n",
       "r    10\n",
       "o    10\n",
       "d     6\n",
       "y     5\n",
       "c     5\n",
       "b     5\n",
       "g     4\n",
       ",     4\n",
       "h     4\n",
       "p     3\n",
       ".     3\n",
       "f     3\n",
       "m     2\n",
       "x     2\n",
       "(     1\n",
       "P     1\n",
       "u     1\n",
       "S     1\n",
       "j     1\n",
       ")     1\n",
       "T     1\n",
       "-     1\n",
       "v     1\n",
       "dtype: int64"
      ]
     },
     "execution_count": 66,
     "metadata": {},
     "output_type": "execute_result"
    }
   ],
   "source": [
    "# Series sorted by count\n",
    "sct = s.value_counts()\n",
    "sct"
   ]
  },
  {
   "cell_type": "code",
   "execution_count": 77,
   "metadata": {},
   "outputs": [
    {
     "name": "stdout",
     "output_type": "stream",
     "text": [
      "['e', 'a', 't', 'i', 'n']\n"
     ]
    }
   ],
   "source": [
    "# list with the 5 most common letters\n",
    "sct_5 = []\n",
    "for idx, val in sct.iteritems():\n",
    "    if idx != ' ':\n",
    "        sct_5.append(idx)   \n",
    "        if len(sct_5) == 5:\n",
    "            break\n",
    "print(sct_5)"
   ]
  },
  {
   "cell_type": "code",
   "execution_count": null,
   "metadata": {},
   "outputs": [],
   "source": []
  }
 ],
 "metadata": {
  "kernelspec": {
   "display_name": "Python 3",
   "language": "python",
   "name": "python3"
  },
  "language_info": {
   "codemirror_mode": {
    "name": "ipython",
    "version": 3
   },
   "file_extension": ".py",
   "mimetype": "text/x-python",
   "name": "python",
   "nbconvert_exporter": "python",
   "pygments_lexer": "ipython3",
   "version": "3.7.6"
  }
 },
 "nbformat": 4,
 "nbformat_minor": 4
}
