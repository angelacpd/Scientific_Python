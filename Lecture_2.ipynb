{
 "cells": [
  {
   "cell_type": "markdown",
   "metadata": {},
   "source": [
    "# CME 193 - Lecture 2\n",
    "\n",
    "This class we will cover\n",
    "1. Basics of creating classes and objects\n",
    "2. Basics of NumPy\n",
    "3. Some plotting"
   ]
  },
  {
   "cell_type": "markdown",
   "metadata": {},
   "source": [
    "## Bank Account example to illustrate Classes and Objects"
   ]
  },
  {
   "cell_type": "code",
   "execution_count": 1,
   "metadata": {},
   "outputs": [],
   "source": [
    "debits = []\n",
    "credits = []"
   ]
  },
  {
   "cell_type": "code",
   "execution_count": 2,
   "metadata": {},
   "outputs": [],
   "source": [
    "def add_to_debits(value):\n",
    "    global debits\n",
    "    debits += [value]"
   ]
  },
  {
   "cell_type": "code",
   "execution_count": 3,
   "metadata": {},
   "outputs": [],
   "source": [
    "def add_to_credits(value):\n",
    "    global credits\n",
    "    credits += [value]"
   ]
  },
  {
   "cell_type": "code",
   "execution_count": 4,
   "metadata": {},
   "outputs": [],
   "source": [
    "add_to_credits(1000)\n",
    "add_to_debits(10)\n",
    "add_to_debits(15)\n",
    "add_to_debits(100)"
   ]
  },
  {
   "cell_type": "code",
   "execution_count": 5,
   "metadata": {},
   "outputs": [
    {
     "data": {
      "text/plain": [
       "[1000]"
      ]
     },
     "execution_count": 5,
     "metadata": {},
     "output_type": "execute_result"
    }
   ],
   "source": [
    "credits"
   ]
  },
  {
   "cell_type": "code",
   "execution_count": 6,
   "metadata": {},
   "outputs": [
    {
     "data": {
      "text/plain": [
       "[10, 15, 100]"
      ]
     },
     "execution_count": 6,
     "metadata": {},
     "output_type": "execute_result"
    }
   ],
   "source": [
    "debits"
   ]
  },
  {
   "cell_type": "code",
   "execution_count": 7,
   "metadata": {},
   "outputs": [],
   "source": [
    "def total_value():\n",
    "    global debits\n",
    "    global credits\n",
    "    total = 0\n",
    "    for val in debits:\n",
    "        total -= val\n",
    "    for val in credits:\n",
    "        total += val\n",
    "    return total"
   ]
  },
  {
   "cell_type": "code",
   "execution_count": 8,
   "metadata": {},
   "outputs": [
    {
     "data": {
      "text/plain": [
       "875"
      ]
     },
     "execution_count": 8,
     "metadata": {},
     "output_type": "execute_result"
    }
   ],
   "source": [
    "total_value()"
   ]
  },
  {
   "cell_type": "markdown",
   "metadata": {},
   "source": [
    "## Lets use Classes and Objects"
   ]
  },
  {
   "cell_type": "code",
   "execution_count": 9,
   "metadata": {},
   "outputs": [],
   "source": [
    "class Account:\n",
    "    accounts = []\n",
    "    def __init__(s):\n",
    "        s.accounts += [s]\n",
    "        s.debits = []\n",
    "        s.credits = []\n",
    "    \n",
    "    def add_to_debits(self, value):\n",
    "        if value < self.total_value():\n",
    "            self.debits += [value]\n",
    "            return True\n",
    "        else:\n",
    "            print(\"Insufficient funds\")\n",
    "            return False\n",
    "    \n",
    "    def add_to_credits(self, value):\n",
    "        self.credits += [value]\n",
    "    \n",
    "    def total_value(self):\n",
    "        total = 0\n",
    "        for val in self.debits:\n",
    "            total -= val\n",
    "        for val in self.credits:\n",
    "            total += val\n",
    "        return total\n",
    "    \n",
    "    def transfer(self, other, value):\n",
    "        if value > 0:\n",
    "            if self.add_to_debits(value):\n",
    "                other.add_to_credits(value)\n",
    "        else:\n",
    "            if other.add_to_debits(-value):\n",
    "                self.add_to_credits(-value)"
   ]
  },
  {
   "cell_type": "code",
   "execution_count": 10,
   "metadata": {},
   "outputs": [
    {
     "data": {
      "text/plain": [
       "1875"
      ]
     },
     "execution_count": 10,
     "metadata": {},
     "output_type": "execute_result"
    }
   ],
   "source": [
    "acc1 = Account()\n",
    "acc1.add_to_credits(2000)\n",
    "acc1.add_to_debits(10)\n",
    "acc1.add_to_debits(15)\n",
    "acc1.add_to_debits(100)\n",
    "acc1.total_value()"
   ]
  },
  {
   "cell_type": "code",
   "execution_count": 11,
   "metadata": {},
   "outputs": [
    {
     "data": {
      "text/plain": [
       "875"
      ]
     },
     "execution_count": 11,
     "metadata": {},
     "output_type": "execute_result"
    }
   ],
   "source": [
    "acc2 = Account()\n",
    "acc2.add_to_credits(1000)\n",
    "acc2.add_to_debits(10)\n",
    "acc2.add_to_debits(15)\n",
    "acc2.add_to_debits(100)\n",
    "acc2.total_value()"
   ]
  },
  {
   "cell_type": "code",
   "execution_count": 12,
   "metadata": {},
   "outputs": [
    {
     "name": "stdout",
     "output_type": "stream",
     "text": [
      "Insufficient funds\n"
     ]
    }
   ],
   "source": [
    "acc2.transfer(acc1, 1000)"
   ]
  },
  {
   "cell_type": "code",
   "execution_count": 13,
   "metadata": {},
   "outputs": [],
   "source": [
    "acc2.transfer(acc1, 200)"
   ]
  },
  {
   "cell_type": "code",
   "execution_count": 14,
   "metadata": {},
   "outputs": [
    {
     "data": {
      "text/plain": [
       "675"
      ]
     },
     "execution_count": 14,
     "metadata": {},
     "output_type": "execute_result"
    }
   ],
   "source": [
    "acc2.total_value()"
   ]
  },
  {
   "cell_type": "code",
   "execution_count": 15,
   "metadata": {},
   "outputs": [
    {
     "data": {
      "text/plain": [
       "2075"
      ]
     },
     "execution_count": 15,
     "metadata": {},
     "output_type": "execute_result"
    }
   ],
   "source": [
    "acc1.total_value()"
   ]
  },
  {
   "cell_type": "code",
   "execution_count": 16,
   "metadata": {},
   "outputs": [
    {
     "data": {
      "text/plain": [
       "[<__main__.Account at 0x1ebcd554448>, <__main__.Account at 0x1ebcd54b808>]"
      ]
     },
     "execution_count": 16,
     "metadata": {},
     "output_type": "execute_result"
    }
   ],
   "source": [
    "Account.accounts"
   ]
  },
  {
   "cell_type": "markdown",
   "metadata": {},
   "source": [
    "## Exercise 1\n",
    "\n",
    "### Add more functionality to the account class\n",
    "\n",
    "1. Add a check before debits to ensure funds are available\n",
    "\n",
    "2. Add a `transfer` function to your account class, which transfers money form one account to another.It should add to the debits of one account and to the credits of the other."
   ]
  },
  {
   "cell_type": "markdown",
   "metadata": {},
   "source": [
    "It's added above."
   ]
  },
  {
   "cell_type": "markdown",
   "metadata": {},
   "source": [
    "## Example: Rational Numbers\n",
    "\n",
    "Let's continue with our example of rational numbers (fractions), that is, numbers of the form\n",
    "$$r = \\frac{p}{q}$$\n",
    "where $p$ and $q$ are integers. Let's make it support addition using the formula:\n",
    "$$ \\frac{p_1}{q_1} + \\frac{p_2}{q_2} = \\frac{p_1 q_2 + p_2 q_1}{q_1 q_2}$$"
   ]
  },
  {
   "cell_type": "code",
   "execution_count": 17,
   "metadata": {},
   "outputs": [],
   "source": [
    "import math\n",
    "\n",
    "\n",
    "class Rational:\n",
    "    def __init__(self, p, q=1):\n",
    "        \n",
    "        if q == 0:\n",
    "            raise ValueError('Denominator must not be zero')\n",
    "        if not isinstance(p, int):\n",
    "            raise TypeError('Numerator must be an integer')\n",
    "        if not isinstance(q, int):\n",
    "            raise TypeError('Denominator must be an integer')\n",
    "            \n",
    "        g = math.gcd(p, q)\n",
    "        \n",
    "        self.p = p // g\n",
    "        self.q = q // g\n",
    "        \n",
    "    # method to convert rational to float\n",
    "    def __float__(self):\n",
    "        return float(self.p) / float(self.q)\n",
    "        \n",
    "    # method to convert rational to string for printing\n",
    "    def __str__(self):\n",
    "        return '%d / %d' % (self.p, self.q)\n",
    "        \n",
    "    # method to add two rationals - interprets self + other\n",
    "    def __add__(self, other):\n",
    "        if isinstance(other, Rational):\n",
    "            return Rational(self.p * other.q + other.p * self.q, self.q * other.q)\n",
    "        # -- if it's an integer\n",
    "        elif isinstance(other, int):\n",
    "            return Rational(self.p + other * self.q, self.q)\n",
    "        # -- otherwise, assume it will be a float\n",
    "        return float(self) + float(other)\n",
    "        \n",
    "    def __radd__(self, other):  # interprets other + self\n",
    "        return self + other  # addition commutes\n",
    "    \n",
    "    # subtraction\n",
    "    def __sub__(self, other):\n",
    "        if isinstance(other, Rational):\n",
    "            return self + Rational(-other.p, other.q)\n",
    "        elif isinstance(other, int):\n",
    "            return self + (-other)\n",
    "        else:\n",
    "            return NotImplemented\n",
    "    \n",
    "    # multiplication\n",
    "    def __mul__(self, other):\n",
    "        if isinstance(other, Rational):\n",
    "            return Rational(self.p * other.p, self.q * other.q)\n",
    "        elif isinstance(other, int):\n",
    "            return Rational(self.p * other, self.q)\n",
    "        else:\n",
    "            return NotImplemented\n",
    "    \n",
    "    # division\n",
    "    def __truediv__(self, other):\n",
    "        if isinstance(other, Rational):\n",
    "            return Rational(self.p * other.q, self.q * other.p)\n",
    "        elif isinstance(other, int):\n",
    "            return Rational(self.p, self.q * other)\n",
    "        else:\n",
    "            return NotImplemented\n",
    "    \n",
    "\n",
    "    def __repr__(self):\n",
    "        return self.__str__()\n",
    "    \n",
    "    def __rmul__(self, other):\n",
    "        return self * other\n",
    "    "
   ]
  },
  {
   "cell_type": "code",
   "execution_count": 18,
   "metadata": {},
   "outputs": [
    {
     "name": "stdout",
     "output_type": "stream",
     "text": [
      "3 / 4\n",
      "5 / 2\n"
     ]
    }
   ],
   "source": [
    "r1 = Rational(3,4)\n",
    "print(r1)\n",
    "r2 = Rational(5,2)\n",
    "print(r2)"
   ]
  },
  {
   "cell_type": "code",
   "execution_count": 19,
   "metadata": {},
   "outputs": [
    {
     "data": {
      "text/plain": [
       "3 / 4"
      ]
     },
     "execution_count": 19,
     "metadata": {},
     "output_type": "execute_result"
    }
   ],
   "source": [
    "r1"
   ]
  },
  {
   "cell_type": "code",
   "execution_count": 20,
   "metadata": {},
   "outputs": [
    {
     "name": "stdout",
     "output_type": "stream",
     "text": [
      "13 / 4\n"
     ]
    }
   ],
   "source": [
    "print(r1 + r2)"
   ]
  },
  {
   "cell_type": "code",
   "execution_count": 21,
   "metadata": {},
   "outputs": [
    {
     "name": "stdout",
     "output_type": "stream",
     "text": [
      "3.25\n"
     ]
    }
   ],
   "source": [
    "print(float(r1 + r2))"
   ]
  },
  {
   "cell_type": "code",
   "execution_count": 22,
   "metadata": {},
   "outputs": [
    {
     "name": "stdout",
     "output_type": "stream",
     "text": [
      "23 / 4\n"
     ]
    }
   ],
   "source": [
    "# left add\n",
    "print(r1 + 5)"
   ]
  },
  {
   "cell_type": "code",
   "execution_count": 23,
   "metadata": {},
   "outputs": [
    {
     "name": "stdout",
     "output_type": "stream",
     "text": [
      "23 / 4\n"
     ]
    }
   ],
   "source": [
    "# right add\n",
    "print(5 + r1)"
   ]
  },
  {
   "cell_type": "markdown",
   "metadata": {},
   "source": [
    "# Exercise 2\n",
    "\n",
    "### Add more operations to `Rational`\n",
    "You can read about the available operations that you can overload [here](https://docs.python.org/3.7/reference/datamodel.html#emulating-numeric-types)\n",
    "\n",
    "Add the following operations to the `Radical` class:\n",
    "* `*` - use `__mul__`\n",
    "* `\\` - use `__truediv__`\n",
    "* `-` - use `__sub__`\n",
    "\n",
    "You only need to define these operations between two `Rational` types - use an `if isinstance(other, Rational):` block.\n",
    "\n",
    "Make a few examples to convince yourself that this works."
   ]
  },
  {
   "cell_type": "markdown",
   "metadata": {},
   "source": [
    "Added above."
   ]
  },
  {
   "cell_type": "code",
   "execution_count": 24,
   "metadata": {},
   "outputs": [
    {
     "name": "stdout",
     "output_type": "stream",
     "text": [
      "2 / 5\n",
      "1 / 5\n"
     ]
    }
   ],
   "source": [
    "r3 = Rational(2, 5)\n",
    "print(r3)\n",
    "r4 = Rational(2, 10)\n",
    "print(r4)"
   ]
  },
  {
   "cell_type": "code",
   "execution_count": 25,
   "metadata": {},
   "outputs": [
    {
     "name": "stdout",
     "output_type": "stream",
     "text": [
      "-1 / 5\n",
      "-0.2\n"
     ]
    }
   ],
   "source": [
    "print(r4 - r3)\n",
    "print(float(r4 - r3))"
   ]
  },
  {
   "cell_type": "code",
   "execution_count": 26,
   "metadata": {},
   "outputs": [
    {
     "name": "stdout",
     "output_type": "stream",
     "text": [
      "-3 / 5\n"
     ]
    }
   ],
   "source": [
    "print(r3 - 1)"
   ]
  },
  {
   "cell_type": "code",
   "execution_count": 27,
   "metadata": {},
   "outputs": [
    {
     "name": "stdout",
     "output_type": "stream",
     "text": [
      "1 / 5\n"
     ]
    }
   ],
   "source": [
    "print(r3 / 2)"
   ]
  },
  {
   "cell_type": "code",
   "execution_count": 28,
   "metadata": {},
   "outputs": [
    {
     "name": "stdout",
     "output_type": "stream",
     "text": [
      "2 / 1\n"
     ]
    }
   ],
   "source": [
    "print(r3 / r4)"
   ]
  },
  {
   "cell_type": "code",
   "execution_count": 30,
   "metadata": {},
   "outputs": [
    {
     "name": "stdout",
     "output_type": "stream",
     "text": [
      "4 / 5\n"
     ]
    }
   ],
   "source": [
    "print(2 * r3)"
   ]
  },
  {
   "cell_type": "code",
   "execution_count": 31,
   "metadata": {},
   "outputs": [
    {
     "name": "stdout",
     "output_type": "stream",
     "text": [
      "4 / 5\n"
     ]
    }
   ],
   "source": [
    "print(r3 * 2)"
   ]
  },
  {
   "cell_type": "code",
   "execution_count": 32,
   "metadata": {},
   "outputs": [
    {
     "name": "stdout",
     "output_type": "stream",
     "text": [
      "2 / 25\n"
     ]
    }
   ],
   "source": [
    "print(r3 * r4)"
   ]
  },
  {
   "cell_type": "code",
   "execution_count": null,
   "metadata": {},
   "outputs": [],
   "source": []
  }
 ],
 "metadata": {
  "kernelspec": {
   "display_name": "Python 3",
   "language": "python",
   "name": "python3"
  },
  "language_info": {
   "codemirror_mode": {
    "name": "ipython",
    "version": 3
   },
   "file_extension": ".py",
   "mimetype": "text/x-python",
   "name": "python",
   "nbconvert_exporter": "python",
   "pygments_lexer": "ipython3",
   "version": "3.7.6"
  }
 },
 "nbformat": 4,
 "nbformat_minor": 4
}
