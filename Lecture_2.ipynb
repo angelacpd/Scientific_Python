{
 "cells": [
  {
   "cell_type": "markdown",
   "metadata": {},
   "source": [
    "# CME 193 - Lecture 2\n",
    "\n",
    "This class we will cover\n",
    "1. Basics of creating classes and objects\n",
    "2. Basics of NumPy\n",
    "3. Some plotting"
   ]
  },
  {
   "cell_type": "markdown",
   "metadata": {},
   "source": [
    "## Bank Account example to illustrate Classes and Objects"
   ]
  },
  {
   "cell_type": "code",
   "execution_count": 1,
   "metadata": {},
   "outputs": [],
   "source": [
    "debits = []\n",
    "credits = []"
   ]
  },
  {
   "cell_type": "code",
   "execution_count": 2,
   "metadata": {},
   "outputs": [],
   "source": [
    "def add_to_debits(value):\n",
    "    global debits\n",
    "    debits += [value]"
   ]
  },
  {
   "cell_type": "code",
   "execution_count": 4,
   "metadata": {},
   "outputs": [],
   "source": [
    "def add_to_credits(value):\n",
    "    global credits\n",
    "    credits += [value]"
   ]
  },
  {
   "cell_type": "code",
   "execution_count": 5,
   "metadata": {},
   "outputs": [],
   "source": [
    "add_to_credits(1000)\n",
    "add_to_debits(10)\n",
    "add_to_debits(15)\n",
    "add_to_debits(100)"
   ]
  },
  {
   "cell_type": "code",
   "execution_count": 6,
   "metadata": {},
   "outputs": [
    {
     "data": {
      "text/plain": [
       "[1000]"
      ]
     },
     "execution_count": 6,
     "metadata": {},
     "output_type": "execute_result"
    }
   ],
   "source": [
    "credits"
   ]
  },
  {
   "cell_type": "code",
   "execution_count": 7,
   "metadata": {},
   "outputs": [
    {
     "data": {
      "text/plain": [
       "[10, 15, 100]"
      ]
     },
     "execution_count": 7,
     "metadata": {},
     "output_type": "execute_result"
    }
   ],
   "source": [
    "debits"
   ]
  },
  {
   "cell_type": "code",
   "execution_count": 8,
   "metadata": {},
   "outputs": [],
   "source": [
    "def total_value():\n",
    "    global debits\n",
    "    global credits\n",
    "    total = 0\n",
    "    for val in debits:\n",
    "        total -= val\n",
    "    for val in credits:\n",
    "        total += val\n",
    "    return total"
   ]
  },
  {
   "cell_type": "code",
   "execution_count": 10,
   "metadata": {},
   "outputs": [
    {
     "data": {
      "text/plain": [
       "875"
      ]
     },
     "execution_count": 10,
     "metadata": {},
     "output_type": "execute_result"
    }
   ],
   "source": [
    "total_value()"
   ]
  },
  {
   "cell_type": "markdown",
   "metadata": {},
   "source": [
    "## Lets use Classes and Objects"
   ]
  },
  {
   "cell_type": "code",
   "execution_count": 3,
   "metadata": {},
   "outputs": [],
   "source": [
    "class Account:\n",
    "    accounts = []\n",
    "    def __init__(s):\n",
    "        s.accounts += [s]\n",
    "        s.debits = []\n",
    "        s.credits = []\n",
    "    \n",
    "    def add_to_debits(self, value):\n",
    "        if value < self.total_value():\n",
    "            self.debits += [value]\n",
    "            return True\n",
    "        else:\n",
    "            print(\"Insufficient funds\")\n",
    "            return False\n",
    "    \n",
    "    def add_to_credits(self, value):\n",
    "        self.credits += [value]\n",
    "    \n",
    "    def total_value(self):\n",
    "        total = 0\n",
    "        for val in self.debits:\n",
    "            total -= val\n",
    "        for val in self.credits:\n",
    "            total += val\n",
    "        return total\n",
    "    \n",
    "    def transfer(self, other, value):\n",
    "        if value > 0:\n",
    "            if self.add_to_debits(value):\n",
    "                other.add_to_credits(value)\n",
    "        else:\n",
    "            if other.add_to_debits(-value):\n",
    "                self.add_to_credits(-value)"
   ]
  },
  {
   "cell_type": "code",
   "execution_count": 5,
   "metadata": {},
   "outputs": [
    {
     "data": {
      "text/plain": [
       "1875"
      ]
     },
     "execution_count": 5,
     "metadata": {},
     "output_type": "execute_result"
    }
   ],
   "source": [
    "acc1 = Account()\n",
    "acc1.add_to_credits(2000)\n",
    "acc1.add_to_debits(10)\n",
    "acc1.add_to_debits(15)\n",
    "acc1.add_to_debits(100)\n",
    "acc1.total_value()"
   ]
  },
  {
   "cell_type": "code",
   "execution_count": 6,
   "metadata": {},
   "outputs": [
    {
     "data": {
      "text/plain": [
       "875"
      ]
     },
     "execution_count": 6,
     "metadata": {},
     "output_type": "execute_result"
    }
   ],
   "source": [
    "acc2 = Account()\n",
    "acc2.add_to_credits(1000)\n",
    "acc2.add_to_debits(10)\n",
    "acc2.add_to_debits(15)\n",
    "acc2.add_to_debits(100)\n",
    "acc2.total_value()"
   ]
  },
  {
   "cell_type": "code",
   "execution_count": 7,
   "metadata": {},
   "outputs": [
    {
     "name": "stdout",
     "output_type": "stream",
     "text": [
      "Insufficient funds\n"
     ]
    }
   ],
   "source": [
    "acc2.transfer(acc1, 1000)"
   ]
  },
  {
   "cell_type": "code",
   "execution_count": 8,
   "metadata": {},
   "outputs": [],
   "source": [
    "acc2.transfer(acc1, 200)"
   ]
  },
  {
   "cell_type": "code",
   "execution_count": 9,
   "metadata": {},
   "outputs": [
    {
     "data": {
      "text/plain": [
       "675"
      ]
     },
     "execution_count": 9,
     "metadata": {},
     "output_type": "execute_result"
    }
   ],
   "source": [
    "acc2.total_value()"
   ]
  },
  {
   "cell_type": "code",
   "execution_count": 10,
   "metadata": {},
   "outputs": [
    {
     "data": {
      "text/plain": [
       "2075"
      ]
     },
     "execution_count": 10,
     "metadata": {},
     "output_type": "execute_result"
    }
   ],
   "source": [
    "acc1.total_value()"
   ]
  },
  {
   "cell_type": "code",
   "execution_count": 11,
   "metadata": {},
   "outputs": [
    {
     "data": {
      "text/plain": [
       "[<__main__.Account at 0x23bdef74248>,\n",
       " <__main__.Account at 0x23bdef88908>,\n",
       " <__main__.Account at 0x23bdee765c8>]"
      ]
     },
     "execution_count": 11,
     "metadata": {},
     "output_type": "execute_result"
    }
   ],
   "source": [
    "Account.accounts"
   ]
  },
  {
   "cell_type": "markdown",
   "metadata": {},
   "source": [
    "## Exercise 1\n",
    "\n",
    "### Add more functionality to the account class\n",
    "\n",
    "1. Add a check before debits to ensure funds are available\n",
    "\n",
    "2. Add a `transfer` function to your account class, which transfers money form one account to another.It should add to the debits of one account and to the credits of the other."
   ]
  },
  {
   "cell_type": "code",
   "execution_count": null,
   "metadata": {},
   "outputs": [],
   "source": []
  }
 ],
 "metadata": {
  "kernelspec": {
   "display_name": "Python 3",
   "language": "python",
   "name": "python3"
  },
  "language_info": {
   "codemirror_mode": {
    "name": "ipython",
    "version": 3
   },
   "file_extension": ".py",
   "mimetype": "text/x-python",
   "name": "python",
   "nbconvert_exporter": "python",
   "pygments_lexer": "ipython3",
   "version": "3.7.6"
  }
 },
 "nbformat": 4,
 "nbformat_minor": 4
}
