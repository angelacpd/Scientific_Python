{
 "cells": [
  {
   "cell_type": "markdown",
   "metadata": {},
   "source": [
    "# CME 193 - Lecture 2\n",
    "\n",
    "This class we will cover\n",
    "1. Basics of creating classes and objects\n",
    "2. Basics of NumPy\n",
    "3. Some plotting"
   ]
  },
  {
   "cell_type": "markdown",
   "metadata": {},
   "source": [
    "## Bank Account example to illustrate Classes and Objects"
   ]
  },
  {
   "cell_type": "code",
   "execution_count": 1,
   "metadata": {},
   "outputs": [],
   "source": [
    "debits = []\n",
    "credits = []"
   ]
  },
  {
   "cell_type": "code",
   "execution_count": 2,
   "metadata": {},
   "outputs": [],
   "source": [
    "def add_to_debits(value):\n",
    "    global debits\n",
    "    debits += [value]"
   ]
  },
  {
   "cell_type": "code",
   "execution_count": 3,
   "metadata": {},
   "outputs": [],
   "source": [
    "def add_to_credits(value):\n",
    "    global credits\n",
    "    credits += [value]"
   ]
  },
  {
   "cell_type": "code",
   "execution_count": 4,
   "metadata": {},
   "outputs": [],
   "source": [
    "add_to_credits(1000)\n",
    "add_to_debits(10)\n",
    "add_to_debits(15)\n",
    "add_to_debits(100)"
   ]
  },
  {
   "cell_type": "code",
   "execution_count": 5,
   "metadata": {},
   "outputs": [
    {
     "data": {
      "text/plain": [
       "[1000]"
      ]
     },
     "execution_count": 5,
     "metadata": {},
     "output_type": "execute_result"
    }
   ],
   "source": [
    "credits"
   ]
  },
  {
   "cell_type": "code",
   "execution_count": 6,
   "metadata": {},
   "outputs": [
    {
     "data": {
      "text/plain": [
       "[10, 15, 100]"
      ]
     },
     "execution_count": 6,
     "metadata": {},
     "output_type": "execute_result"
    }
   ],
   "source": [
    "debits"
   ]
  },
  {
   "cell_type": "code",
   "execution_count": 7,
   "metadata": {},
   "outputs": [],
   "source": [
    "def total_value():\n",
    "    global debits\n",
    "    global credits\n",
    "    total = 0\n",
    "    for val in debits:\n",
    "        total -= val\n",
    "    for val in credits:\n",
    "        total += val\n",
    "    return total"
   ]
  },
  {
   "cell_type": "code",
   "execution_count": 8,
   "metadata": {},
   "outputs": [
    {
     "data": {
      "text/plain": [
       "875"
      ]
     },
     "execution_count": 8,
     "metadata": {},
     "output_type": "execute_result"
    }
   ],
   "source": [
    "total_value()"
   ]
  },
  {
   "cell_type": "markdown",
   "metadata": {},
   "source": [
    "## Lets use Classes and Objects"
   ]
  },
  {
   "cell_type": "code",
   "execution_count": 9,
   "metadata": {},
   "outputs": [],
   "source": [
    "class Account:\n",
    "    accounts = []\n",
    "    def __init__(s):\n",
    "        s.accounts += [s]\n",
    "        s.debits = []\n",
    "        s.credits = []\n",
    "    \n",
    "    def add_to_debits(self, value):\n",
    "        if value < self.total_value():\n",
    "            self.debits += [value]\n",
    "            return True\n",
    "        else:\n",
    "            print(\"Insufficient funds\")\n",
    "            return False\n",
    "    \n",
    "    def add_to_credits(self, value):\n",
    "        self.credits += [value]\n",
    "    \n",
    "    def total_value(self):\n",
    "        total = 0\n",
    "        for val in self.debits:\n",
    "            total -= val\n",
    "        for val in self.credits:\n",
    "            total += val\n",
    "        return total\n",
    "    \n",
    "    def transfer(self, other, value):\n",
    "        if value > 0:\n",
    "            if self.add_to_debits(value):\n",
    "                other.add_to_credits(value)\n",
    "        else:\n",
    "            if other.add_to_debits(-value):\n",
    "                self.add_to_credits(-value)"
   ]
  },
  {
   "cell_type": "code",
   "execution_count": 10,
   "metadata": {},
   "outputs": [
    {
     "data": {
      "text/plain": [
       "1875"
      ]
     },
     "execution_count": 10,
     "metadata": {},
     "output_type": "execute_result"
    }
   ],
   "source": [
    "acc1 = Account()\n",
    "acc1.add_to_credits(2000)\n",
    "acc1.add_to_debits(10)\n",
    "acc1.add_to_debits(15)\n",
    "acc1.add_to_debits(100)\n",
    "acc1.total_value()"
   ]
  },
  {
   "cell_type": "code",
   "execution_count": 11,
   "metadata": {},
   "outputs": [
    {
     "data": {
      "text/plain": [
       "875"
      ]
     },
     "execution_count": 11,
     "metadata": {},
     "output_type": "execute_result"
    }
   ],
   "source": [
    "acc2 = Account()\n",
    "acc2.add_to_credits(1000)\n",
    "acc2.add_to_debits(10)\n",
    "acc2.add_to_debits(15)\n",
    "acc2.add_to_debits(100)\n",
    "acc2.total_value()"
   ]
  },
  {
   "cell_type": "code",
   "execution_count": 12,
   "metadata": {},
   "outputs": [
    {
     "name": "stdout",
     "output_type": "stream",
     "text": [
      "Insufficient funds\n"
     ]
    }
   ],
   "source": [
    "acc2.transfer(acc1, 1000)"
   ]
  },
  {
   "cell_type": "code",
   "execution_count": 13,
   "metadata": {},
   "outputs": [],
   "source": [
    "acc2.transfer(acc1, 200)"
   ]
  },
  {
   "cell_type": "code",
   "execution_count": 14,
   "metadata": {},
   "outputs": [
    {
     "data": {
      "text/plain": [
       "675"
      ]
     },
     "execution_count": 14,
     "metadata": {},
     "output_type": "execute_result"
    }
   ],
   "source": [
    "acc2.total_value()"
   ]
  },
  {
   "cell_type": "code",
   "execution_count": 15,
   "metadata": {},
   "outputs": [
    {
     "data": {
      "text/plain": [
       "2075"
      ]
     },
     "execution_count": 15,
     "metadata": {},
     "output_type": "execute_result"
    }
   ],
   "source": [
    "acc1.total_value()"
   ]
  },
  {
   "cell_type": "code",
   "execution_count": 16,
   "metadata": {},
   "outputs": [
    {
     "data": {
      "text/plain": [
       "[<__main__.Account at 0x2f308abfa08>, <__main__.Account at 0x2f308b62748>]"
      ]
     },
     "execution_count": 16,
     "metadata": {},
     "output_type": "execute_result"
    }
   ],
   "source": [
    "Account.accounts"
   ]
  },
  {
   "cell_type": "markdown",
   "metadata": {},
   "source": [
    "## Exercise 1\n",
    "\n",
    "### Add more functionality to the account class\n",
    "\n",
    "1. Add a check before debits to ensure funds are available\n",
    "\n",
    "2. Add a `transfer` function to your account class, which transfers money form one account to another.It should add to the debits of one account and to the credits of the other."
   ]
  },
  {
   "cell_type": "markdown",
   "metadata": {},
   "source": [
    "It's added above."
   ]
  },
  {
   "cell_type": "markdown",
   "metadata": {},
   "source": [
    "## Example: Rational Numbers\n",
    "\n",
    "Let's continue with our example of rational numbers (fractions), that is, numbers of the form\n",
    "$$r = \\frac{p}{q}$$\n",
    "where $p$ and $q$ are integers. Let's make it support addition using the formula:\n",
    "$$ \\frac{p_1}{q_1} + \\frac{p_2}{q_2} = \\frac{p_1 q_2 + p_2 q_1}{q_1 q_2}$$"
   ]
  },
  {
   "cell_type": "code",
   "execution_count": 17,
   "metadata": {},
   "outputs": [],
   "source": [
    "import math\n",
    "\n",
    "\n",
    "class Rational:\n",
    "    def __init__(self, p, q=1):\n",
    "        \n",
    "        if q == 0:\n",
    "            raise ValueError('Denominator must not be zero')\n",
    "        if not isinstance(p, int):\n",
    "            raise TypeError('Numerator must be an integer')\n",
    "        if not isinstance(q, int):\n",
    "            raise TypeError('Denominator must be an integer')\n",
    "            \n",
    "        g = math.gcd(p, q)\n",
    "        \n",
    "        self.p = p // g\n",
    "        self.q = q // g\n",
    "        \n",
    "    # method to convert rational to float\n",
    "    def __float__(self):\n",
    "        return float(self.p) / float(self.q)\n",
    "        \n",
    "    # method to convert rational to string for printing\n",
    "    def __str__(self):\n",
    "        return '%d / %d' % (self.p, self.q)\n",
    "        \n",
    "    # method to add two rationals - interprets self + other\n",
    "    def __add__(self, other):\n",
    "        if isinstance(other, Rational):\n",
    "            return Rational(self.p * other.q + other.p * self.q, self.q * other.q)\n",
    "        # -- if it's an integer\n",
    "        elif isinstance(other, int):\n",
    "            return Rational(self.p + other * self.q, self.q)\n",
    "        # -- otherwise, assume it will be a float\n",
    "        return float(self) + float(other)\n",
    "        \n",
    "    def __radd__(self, other):  # interprets other + self\n",
    "        return self + other  # addition commutes\n",
    "    \n",
    "    # subtraction\n",
    "    def __sub__(self, other):\n",
    "        if isinstance(other, Rational):\n",
    "            return self + Rational(-other.p, other.q)\n",
    "        elif isinstance(other, int):\n",
    "            return self + (-other)\n",
    "        else:\n",
    "            return NotImplemented\n",
    "    \n",
    "    # multiplication\n",
    "    def __mul__(self, other):\n",
    "        if isinstance(other, Rational):\n",
    "            return Rational(self.p * other.p, self.q * other.q)\n",
    "        elif isinstance(other, int):\n",
    "            return Rational(self.p * other, self.q)\n",
    "        else:\n",
    "            return NotImplemented\n",
    "    \n",
    "    # division\n",
    "    def __truediv__(self, other):\n",
    "        if isinstance(other, Rational):\n",
    "            return Rational(self.p * other.q, self.q * other.p)\n",
    "        elif isinstance(other, int):\n",
    "            return Rational(self.p, self.q * other)\n",
    "        else:\n",
    "            return NotImplemented\n",
    "    \n",
    "    # less than\n",
    "    def __lt__(self, other):\n",
    "        if isinstance(other, Rational):\n",
    "            return self.p / self.q < other.p / other.q\n",
    "        elif isinstance(other, int):\n",
    "            return self.p / self.q < other\n",
    "        else:\n",
    "            return NotImplemented\n",
    "\n",
    "    def __repr__(self):\n",
    "        return self.__str__()\n",
    "    \n",
    "    def __rmul__(self, other):\n",
    "        return self * other\n",
    "    "
   ]
  },
  {
   "cell_type": "code",
   "execution_count": 18,
   "metadata": {},
   "outputs": [
    {
     "name": "stdout",
     "output_type": "stream",
     "text": [
      "3 / 4\n",
      "5 / 2\n"
     ]
    }
   ],
   "source": [
    "r1 = Rational(3,4)\n",
    "print(r1)\n",
    "r2 = Rational(5,2)\n",
    "print(r2)"
   ]
  },
  {
   "cell_type": "code",
   "execution_count": 19,
   "metadata": {},
   "outputs": [
    {
     "data": {
      "text/plain": [
       "3 / 4"
      ]
     },
     "execution_count": 19,
     "metadata": {},
     "output_type": "execute_result"
    }
   ],
   "source": [
    "r1"
   ]
  },
  {
   "cell_type": "code",
   "execution_count": 20,
   "metadata": {},
   "outputs": [
    {
     "name": "stdout",
     "output_type": "stream",
     "text": [
      "13 / 4\n"
     ]
    }
   ],
   "source": [
    "print(r1 + r2)"
   ]
  },
  {
   "cell_type": "code",
   "execution_count": 21,
   "metadata": {},
   "outputs": [
    {
     "name": "stdout",
     "output_type": "stream",
     "text": [
      "3.25\n"
     ]
    }
   ],
   "source": [
    "print(float(r1 + r2))"
   ]
  },
  {
   "cell_type": "code",
   "execution_count": 22,
   "metadata": {},
   "outputs": [
    {
     "name": "stdout",
     "output_type": "stream",
     "text": [
      "23 / 4\n"
     ]
    }
   ],
   "source": [
    "# left add\n",
    "print(r1 + 5)"
   ]
  },
  {
   "cell_type": "code",
   "execution_count": 23,
   "metadata": {},
   "outputs": [
    {
     "name": "stdout",
     "output_type": "stream",
     "text": [
      "23 / 4\n"
     ]
    }
   ],
   "source": [
    "# right add\n",
    "print(5 + r1)"
   ]
  },
  {
   "cell_type": "markdown",
   "metadata": {},
   "source": [
    "# Exercise 2\n",
    "\n",
    "### Add more operations to `Rational`\n",
    "You can read about the available operations that you can overload [here](https://docs.python.org/3.7/reference/datamodel.html#emulating-numeric-types)\n",
    "\n",
    "Add the following operations to the `Radical` class:\n",
    "* `*` - use `__mul__`\n",
    "* `\\` - use `__truediv__`\n",
    "* `-` - use `__sub__`\n",
    "\n",
    "You only need to define these operations between two `Rational` types - use an `if isinstance(other, Rational):` block.\n",
    "\n",
    "Make a few examples to convince yourself that this works."
   ]
  },
  {
   "cell_type": "markdown",
   "metadata": {},
   "source": [
    "Added above."
   ]
  },
  {
   "cell_type": "code",
   "execution_count": 24,
   "metadata": {},
   "outputs": [
    {
     "name": "stdout",
     "output_type": "stream",
     "text": [
      "2 / 5\n",
      "1 / 5\n"
     ]
    }
   ],
   "source": [
    "r3 = Rational(2, 5)\n",
    "print(r3)\n",
    "r4 = Rational(2, 10)\n",
    "print(r4)"
   ]
  },
  {
   "cell_type": "code",
   "execution_count": 25,
   "metadata": {},
   "outputs": [
    {
     "name": "stdout",
     "output_type": "stream",
     "text": [
      "-1 / 5\n",
      "-0.2\n"
     ]
    }
   ],
   "source": [
    "print(r4 - r3)\n",
    "print(float(r4 - r3))"
   ]
  },
  {
   "cell_type": "code",
   "execution_count": 26,
   "metadata": {},
   "outputs": [
    {
     "name": "stdout",
     "output_type": "stream",
     "text": [
      "-3 / 5\n"
     ]
    }
   ],
   "source": [
    "print(r3 - 1)"
   ]
  },
  {
   "cell_type": "code",
   "execution_count": 27,
   "metadata": {},
   "outputs": [
    {
     "name": "stdout",
     "output_type": "stream",
     "text": [
      "1 / 5\n"
     ]
    }
   ],
   "source": [
    "print(r3 / 2)"
   ]
  },
  {
   "cell_type": "code",
   "execution_count": 28,
   "metadata": {},
   "outputs": [
    {
     "name": "stdout",
     "output_type": "stream",
     "text": [
      "2 / 1\n"
     ]
    }
   ],
   "source": [
    "print(r3 / r4)"
   ]
  },
  {
   "cell_type": "code",
   "execution_count": 29,
   "metadata": {},
   "outputs": [
    {
     "name": "stdout",
     "output_type": "stream",
     "text": [
      "4 / 5\n"
     ]
    }
   ],
   "source": [
    "print(2 * r3)"
   ]
  },
  {
   "cell_type": "code",
   "execution_count": 30,
   "metadata": {},
   "outputs": [
    {
     "name": "stdout",
     "output_type": "stream",
     "text": [
      "4 / 5\n"
     ]
    }
   ],
   "source": [
    "print(r3 * 2)"
   ]
  },
  {
   "cell_type": "code",
   "execution_count": 31,
   "metadata": {},
   "outputs": [
    {
     "name": "stdout",
     "output_type": "stream",
     "text": [
      "2 / 25\n"
     ]
    }
   ],
   "source": [
    "print(r3 * r4)"
   ]
  },
  {
   "cell_type": "markdown",
   "metadata": {},
   "source": [
    "# Exercise 3\n",
    "## Square root of rationals using the Babylonian method\n",
    "\n",
    "Implement the [Babylonian Method](https://en.wikipedia.org/wiki/Methods_of_computing_square_roots#Babylonian_method) for computing the square root of a number $S$."
   ]
  },
  {
   "cell_type": "code",
   "execution_count": 32,
   "metadata": {},
   "outputs": [],
   "source": [
    "def babylonian(S, num_iters=5):\n",
    "    \"\"\"\n",
    "    Fuction to calculate the square root using the Babylonian method.\n",
    "    \n",
    "    Arguments:\n",
    "        S : number to be square root'ed; non negative real number.\n",
    "        num_iters : number of iterations of Babylonian algorithm; \n",
    "                    positive integer.\n",
    "    \"\"\"\n",
    "    \n",
    "    # Validate input arguments\n",
    "    if not isinstance(S, (int, float, Rational)):\n",
    "        raise TypeError(\"The value must be an integer, float or Rational.\")\n",
    "    if num_iters <= 0:\n",
    "        raise ValueError(\"The number of iterations must be positive.\")\n",
    "    if not isinstance(num_iters, int):\n",
    "        raise TypeError(\"The number of iterations must be an integer.\")\n",
    "    \n",
    "    # Necessary to convert S rational into float\n",
    "    S = float(S)\n",
    "    \n",
    "    if S < 0:\n",
    "        raise ValueError(\"The value must be non negative.\")    \n",
    "    \n",
    "    # Babylonian method\n",
    "    x = S / 2  # initial guess\n",
    "    for i in range(num_iters):\n",
    "        x = (x + S / x) / 2\n",
    "    return x"
   ]
  },
  {
   "cell_type": "code",
   "execution_count": 33,
   "metadata": {},
   "outputs": [
    {
     "name": "stdout",
     "output_type": "stream",
     "text": [
      "Help on function babylonian in module __main__:\n",
      "\n",
      "babylonian(S, num_iters=5)\n",
      "    Fuction to calculate the square root using the Babylonian method.\n",
      "    \n",
      "    Arguments:\n",
      "        S : number to be square root'ed; non negative real number.\n",
      "        num_iters : number of iterations of Babylonian algorithm; \n",
      "                    positive integer.\n",
      "\n"
     ]
    }
   ],
   "source": [
    "help(babylonian)"
   ]
  },
  {
   "cell_type": "code",
   "execution_count": 34,
   "metadata": {},
   "outputs": [
    {
     "data": {
      "text/plain": [
       "4.898979485575103"
      ]
     },
     "execution_count": 34,
     "metadata": {},
     "output_type": "execute_result"
    }
   ],
   "source": [
    "babylonian(24)"
   ]
  },
  {
   "cell_type": "code",
   "execution_count": 35,
   "metadata": {},
   "outputs": [
    {
     "data": {
      "text/plain": [
       "5.0"
      ]
     },
     "execution_count": 35,
     "metadata": {},
     "output_type": "execute_result"
    }
   ],
   "source": [
    "babylonian(25, 6)"
   ]
  },
  {
   "cell_type": "code",
   "execution_count": 36,
   "metadata": {},
   "outputs": [
    {
     "data": {
      "text/plain": [
       "11.294043102421222"
      ]
     },
     "execution_count": 36,
     "metadata": {},
     "output_type": "execute_result"
    }
   ],
   "source": [
    "babylonian(127.55)"
   ]
  },
  {
   "cell_type": "code",
   "execution_count": 37,
   "metadata": {},
   "outputs": [
    {
     "data": {
      "text/plain": [
       "4.898979485566356"
      ]
     },
     "execution_count": 37,
     "metadata": {},
     "output_type": "execute_result"
    }
   ],
   "source": [
    "math.sqrt(24)"
   ]
  },
  {
   "cell_type": "code",
   "execution_count": 38,
   "metadata": {},
   "outputs": [
    {
     "data": {
      "text/plain": [
       "4.898979485575103"
      ]
     },
     "execution_count": 38,
     "metadata": {},
     "output_type": "execute_result"
    }
   ],
   "source": [
    "babylonian(Rational(24))"
   ]
  },
  {
   "cell_type": "markdown",
   "metadata": {},
   "source": [
    "# NumPy"
   ]
  },
  {
   "cell_type": "code",
   "execution_count": 1,
   "metadata": {},
   "outputs": [],
   "source": [
    "import math as m\n",
    "import numpy as np"
   ]
  },
  {
   "cell_type": "code",
   "execution_count": 12,
   "metadata": {},
   "outputs": [
    {
     "data": {
      "text/plain": [
       "-0.9589242746631385"
      ]
     },
     "execution_count": 12,
     "metadata": {},
     "output_type": "execute_result"
    }
   ],
   "source": [
    "m.sin(5)"
   ]
  },
  {
   "cell_type": "code",
   "execution_count": 2,
   "metadata": {},
   "outputs": [
    {
     "data": {
      "text/plain": [
       "array([[0, 1],\n",
       "       [1, 5]])"
      ]
     },
     "execution_count": 2,
     "metadata": {},
     "output_type": "execute_result"
    }
   ],
   "source": [
    "x = np.array([[0, 1], [1, 5]])\n",
    "x"
   ]
  },
  {
   "cell_type": "code",
   "execution_count": 4,
   "metadata": {},
   "outputs": [
    {
     "data": {
      "text/plain": [
       "array([[4, 0],\n",
       "       [0, 4]])"
      ]
     },
     "execution_count": 4,
     "metadata": {},
     "output_type": "execute_result"
    }
   ],
   "source": [
    "y = np.array([[4, 0], [0, 4]])\n",
    "y"
   ]
  },
  {
   "cell_type": "code",
   "execution_count": 5,
   "metadata": {},
   "outputs": [
    {
     "data": {
      "text/plain": [
       "array([[4, 1],\n",
       "       [1, 9]])"
      ]
     },
     "execution_count": 5,
     "metadata": {},
     "output_type": "execute_result"
    }
   ],
   "source": [
    "x + y"
   ]
  },
  {
   "cell_type": "code",
   "execution_count": 6,
   "metadata": {},
   "outputs": [
    {
     "data": {
      "text/plain": [
       "array([[ 0,  1],\n",
       "       [ 1, 25]], dtype=int32)"
      ]
     },
     "execution_count": 6,
     "metadata": {},
     "output_type": "execute_result"
    }
   ],
   "source": [
    "x ** 2"
   ]
  },
  {
   "cell_type": "code",
   "execution_count": 7,
   "metadata": {},
   "outputs": [
    {
     "data": {
      "text/plain": [
       "array([[ 0,  4],\n",
       "       [ 4, 20]])"
      ]
     },
     "execution_count": 7,
     "metadata": {},
     "output_type": "execute_result"
    }
   ],
   "source": [
    "x @ y  # matrix multiplication"
   ]
  },
  {
   "cell_type": "code",
   "execution_count": 8,
   "metadata": {},
   "outputs": [
    {
     "data": {
      "text/plain": [
       "7"
      ]
     },
     "execution_count": 8,
     "metadata": {},
     "output_type": "execute_result"
    }
   ],
   "source": [
    "np.sum(x)"
   ]
  },
  {
   "cell_type": "code",
   "execution_count": 9,
   "metadata": {},
   "outputs": [
    {
     "name": "stdout",
     "output_type": "stream",
     "text": [
      "5.25 ms ± 317 µs per loop (mean ± std. dev. of 7 runs, 100 loops each)\n"
     ]
    }
   ],
   "source": [
    "%%timeit\n",
    "x = np.random.rand(10000)\n",
    "y = np.random.rand(10000)\n",
    "z = 0\n",
    "for i in range(10000):\n",
    "    z += x[i] * y[i]"
   ]
  },
  {
   "cell_type": "code",
   "execution_count": 11,
   "metadata": {},
   "outputs": [
    {
     "name": "stdout",
     "output_type": "stream",
     "text": [
      "192 µs ± 4.67 µs per loop (mean ± std. dev. of 7 runs, 10000 loops each)\n"
     ]
    }
   ],
   "source": [
    "%%timeit\n",
    "x = np.random.rand(10000)\n",
    "y = np.random.rand(10000)\n",
    "z = np.dot(x, y)"
   ]
  },
  {
   "cell_type": "markdown",
   "metadata": {},
   "source": [
    "## NumPy functions for creating arrays"
   ]
  },
  {
   "cell_type": "code",
   "execution_count": 14,
   "metadata": {},
   "outputs": [
    {
     "data": {
      "text/plain": [
       "array([[0., 0., 0., 0., 0., 0., 0., 0., 0., 0.],\n",
       "       [0., 0., 0., 0., 0., 0., 0., 0., 0., 0.],\n",
       "       [0., 0., 0., 0., 0., 0., 0., 0., 0., 0.],\n",
       "       [0., 0., 0., 0., 0., 0., 0., 0., 0., 0.],\n",
       "       [0., 0., 0., 0., 0., 0., 0., 0., 0., 0.],\n",
       "       [0., 0., 0., 0., 0., 0., 0., 0., 0., 0.],\n",
       "       [0., 0., 0., 0., 0., 0., 0., 0., 0., 0.],\n",
       "       [0., 0., 0., 0., 0., 0., 0., 0., 0., 0.],\n",
       "       [0., 0., 0., 0., 0., 0., 0., 0., 0., 0.],\n",
       "       [0., 0., 0., 0., 0., 0., 0., 0., 0., 0.]])"
      ]
     },
     "execution_count": 14,
     "metadata": {},
     "output_type": "execute_result"
    }
   ],
   "source": [
    "X = np.zeros((10,10))\n",
    "X"
   ]
  },
  {
   "cell_type": "code",
   "execution_count": 15,
   "metadata": {},
   "outputs": [
    {
     "data": {
      "text/plain": [
       "(10, 10)"
      ]
     },
     "execution_count": 15,
     "metadata": {},
     "output_type": "execute_result"
    }
   ],
   "source": [
    "X.shape"
   ]
  },
  {
   "cell_type": "code",
   "execution_count": 17,
   "metadata": {},
   "outputs": [
    {
     "data": {
      "text/plain": [
       "array([[1., 1., 1., 1., 1., 1., 1., 1., 1., 1.],\n",
       "       [1., 1., 1., 1., 1., 1., 1., 1., 1., 1.],\n",
       "       [1., 1., 1., 1., 1., 1., 1., 1., 1., 1.],\n",
       "       [1., 1., 1., 1., 1., 1., 1., 1., 1., 1.],\n",
       "       [1., 1., 1., 1., 1., 1., 1., 1., 1., 1.],\n",
       "       [1., 1., 1., 1., 1., 1., 1., 1., 1., 1.],\n",
       "       [1., 1., 1., 1., 1., 1., 1., 1., 1., 1.],\n",
       "       [1., 1., 1., 1., 1., 1., 1., 1., 1., 1.],\n",
       "       [1., 1., 1., 1., 1., 1., 1., 1., 1., 1.],\n",
       "       [1., 1., 1., 1., 1., 1., 1., 1., 1., 1.]])"
      ]
     },
     "execution_count": 17,
     "metadata": {},
     "output_type": "execute_result"
    }
   ],
   "source": [
    "Y = np.ones((10,10))\n",
    "Y"
   ]
  },
  {
   "cell_type": "code",
   "execution_count": 18,
   "metadata": {},
   "outputs": [
    {
     "data": {
      "text/plain": [
       "array([[5., 5., 5., 5., 5., 5., 5., 5., 5., 5.],\n",
       "       [5., 5., 5., 5., 5., 5., 5., 5., 5., 5.],\n",
       "       [5., 5., 5., 5., 5., 5., 5., 5., 5., 5.],\n",
       "       [5., 5., 5., 5., 5., 5., 5., 5., 5., 5.],\n",
       "       [5., 5., 5., 5., 5., 5., 5., 5., 5., 5.],\n",
       "       [5., 5., 5., 5., 5., 5., 5., 5., 5., 5.],\n",
       "       [5., 5., 5., 5., 5., 5., 5., 5., 5., 5.],\n",
       "       [5., 5., 5., 5., 5., 5., 5., 5., 5., 5.],\n",
       "       [5., 5., 5., 5., 5., 5., 5., 5., 5., 5.],\n",
       "       [5., 5., 5., 5., 5., 5., 5., 5., 5., 5.]])"
      ]
     },
     "execution_count": 18,
     "metadata": {},
     "output_type": "execute_result"
    }
   ],
   "source": [
    "2*Y + 3"
   ]
  },
  {
   "cell_type": "code",
   "execution_count": 20,
   "metadata": {},
   "outputs": [
    {
     "data": {
      "text/plain": [
       "array([[0.04205451, 0.0974169 , 0.27404319, 0.43063927, 0.34738275],\n",
       "       [0.06853832, 0.69728161, 0.93875269, 0.39578664, 0.56821876],\n",
       "       [0.91981613, 0.82713215, 0.58500318, 0.24473728, 0.35012877],\n",
       "       [0.58735525, 0.15701208, 0.30394617, 0.61135024, 0.90412951],\n",
       "       [0.38099411, 0.51851293, 0.50636345, 0.95809002, 0.25700971]])"
      ]
     },
     "execution_count": 20,
     "metadata": {},
     "output_type": "execute_result"
    }
   ],
   "source": [
    "R = np.random.rand(5,5)\n",
    "R"
   ]
  },
  {
   "cell_type": "code",
   "execution_count": 22,
   "metadata": {},
   "outputs": [
    {
     "data": {
      "text/plain": [
       "array([[ 0.54726549, -1.08770072,  0.88097708, -0.78885863,  1.75961129],\n",
       "       [-0.44153183,  0.56152914, -0.59470371,  0.16202678, -1.66335771],\n",
       "       [-1.93086989, -1.68074394, -1.15738981, -2.01012007,  0.97381759],\n",
       "       [-0.77304597, -0.6387274 ,  1.23400934, -0.72969635, -0.93799571],\n",
       "       [-0.62011243, -0.61847048,  0.33559256, -2.19453846,  0.58536196]])"
      ]
     },
     "execution_count": 22,
     "metadata": {},
     "output_type": "execute_result"
    }
   ],
   "source": [
    "Rn = np.random.randn(5,5)\n",
    "Rn"
   ]
  },
  {
   "cell_type": "code",
   "execution_count": 23,
   "metadata": {},
   "outputs": [
    {
     "data": {
      "text/plain": [
       "array([ 1,  3,  5,  7,  9, 11, 13, 15, 17, 19, 21, 23, 25, 27, 29, 31, 33,\n",
       "       35, 37, 39, 41, 43, 45, 47, 49, 51, 53, 55, 57, 59, 61, 63, 65, 67,\n",
       "       69, 71, 73, 75, 77, 79, 81, 83, 85, 87, 89, 91, 93, 95, 97, 99])"
      ]
     },
     "execution_count": 23,
     "metadata": {},
     "output_type": "execute_result"
    }
   ],
   "source": [
    "np.arange(1, 100, 2)"
   ]
  },
  {
   "cell_type": "code",
   "execution_count": 24,
   "metadata": {},
   "outputs": [
    {
     "data": {
      "text/plain": [
       "array([0.        , 0.55555556, 1.11111111, 1.66666667, 2.22222222,\n",
       "       2.77777778, 3.33333333, 3.88888889, 4.44444444, 5.        ])"
      ]
     },
     "execution_count": 24,
     "metadata": {},
     "output_type": "execute_result"
    }
   ],
   "source": [
    "np.linspace(0, 5, 10)"
   ]
  },
  {
   "cell_type": "code",
   "execution_count": 25,
   "metadata": {},
   "outputs": [
    {
     "data": {
      "text/plain": [
       "array([ 0,  1,  2,  3,  4,  5,  6,  7,  8,  9, 10, 11, 12, 13, 14, 15, 16,\n",
       "       17, 18, 19, 20, 21, 22, 23, 24, 25, 26, 27, 28, 29, 30, 31, 32, 33,\n",
       "       34, 35, 36, 37, 38, 39, 40, 41, 42, 43, 44, 45, 46, 47, 48, 49, 50,\n",
       "       51, 52, 53, 54, 55, 56, 57, 58, 59, 60, 61, 62, 63, 64, 65, 66, 67,\n",
       "       68, 69, 70, 71, 72, 73, 74, 75, 76, 77, 78, 79, 80, 81, 82, 83, 84,\n",
       "       85, 86, 87, 88, 89, 90, 91, 92, 93, 94, 95, 96, 97, 98, 99])"
      ]
     },
     "execution_count": 25,
     "metadata": {},
     "output_type": "execute_result"
    }
   ],
   "source": [
    "X = np.arange(0, 100)\n",
    "X"
   ]
  },
  {
   "cell_type": "code",
   "execution_count": 26,
   "metadata": {},
   "outputs": [
    {
     "data": {
      "text/plain": [
       "array([[ 0,  1,  2,  3,  4,  5,  6,  7,  8,  9],\n",
       "       [10, 11, 12, 13, 14, 15, 16, 17, 18, 19],\n",
       "       [20, 21, 22, 23, 24, 25, 26, 27, 28, 29],\n",
       "       [30, 31, 32, 33, 34, 35, 36, 37, 38, 39],\n",
       "       [40, 41, 42, 43, 44, 45, 46, 47, 48, 49],\n",
       "       [50, 51, 52, 53, 54, 55, 56, 57, 58, 59],\n",
       "       [60, 61, 62, 63, 64, 65, 66, 67, 68, 69],\n",
       "       [70, 71, 72, 73, 74, 75, 76, 77, 78, 79],\n",
       "       [80, 81, 82, 83, 84, 85, 86, 87, 88, 89],\n",
       "       [90, 91, 92, 93, 94, 95, 96, 97, 98, 99]])"
      ]
     },
     "execution_count": 26,
     "metadata": {},
     "output_type": "execute_result"
    }
   ],
   "source": [
    "X.reshape((10, 10))"
   ]
  },
  {
   "cell_type": "markdown",
   "metadata": {},
   "source": [
    "# Exercise 4\n",
    "\n",
    "## Numpy Array construction\n",
    "\n",
    "1. 5 by 10 array with all elements random between 50 and 100.\n",
    "2. All numbers between 50 and 51, separated by 0.01"
   ]
  },
  {
   "cell_type": "code",
   "execution_count": 41,
   "metadata": {},
   "outputs": [
    {
     "data": {
      "text/plain": [
       "array([[80.32336322, 82.12302275, 63.61965142, 94.32024512, 78.17274811,\n",
       "        55.87575605, 58.16757774, 51.31766459, 77.96255616, 99.21107621],\n",
       "       [68.21942516, 81.99323687, 57.09931189, 53.47882881, 52.77034563,\n",
       "        94.56158485, 55.89021609, 62.3509127 , 73.87929697, 87.1197825 ],\n",
       "       [56.99472287, 68.94836789, 52.05351637, 63.1965202 , 50.30129352,\n",
       "        62.97425699, 61.03164759, 80.47751397, 59.50074279, 52.14166965],\n",
       "       [51.74590488, 98.10151148, 83.30977792, 61.5324703 , 96.84187548,\n",
       "        60.27944117, 79.31614949, 62.96376056, 96.57357931, 96.38130037],\n",
       "       [67.04734467, 90.1204293 , 76.29395892, 85.54293536, 56.28244621,\n",
       "        59.43345098, 87.93805723, 63.63197961, 56.69741737, 92.37297157]])"
      ]
     },
     "execution_count": 41,
     "metadata": {},
     "output_type": "execute_result"
    }
   ],
   "source": [
    "# 1\n",
    "Arr = 50 + 50 * np.random.rand(5, 10)\n",
    "Arr"
   ]
  },
  {
   "cell_type": "code",
   "execution_count": 37,
   "metadata": {},
   "outputs": [
    {
     "data": {
      "text/plain": [
       "array([50.  , 50.01, 50.02, 50.03, 50.04, 50.05, 50.06, 50.07, 50.08,\n",
       "       50.09, 50.1 , 50.11, 50.12, 50.13, 50.14, 50.15, 50.16, 50.17,\n",
       "       50.18, 50.19, 50.2 , 50.21, 50.22, 50.23, 50.24, 50.25, 50.26,\n",
       "       50.27, 50.28, 50.29, 50.3 , 50.31, 50.32, 50.33, 50.34, 50.35,\n",
       "       50.36, 50.37, 50.38, 50.39, 50.4 , 50.41, 50.42, 50.43, 50.44,\n",
       "       50.45, 50.46, 50.47, 50.48, 50.49, 50.5 , 50.51, 50.52, 50.53,\n",
       "       50.54, 50.55, 50.56, 50.57, 50.58, 50.59, 50.6 , 50.61, 50.62,\n",
       "       50.63, 50.64, 50.65, 50.66, 50.67, 50.68, 50.69, 50.7 , 50.71,\n",
       "       50.72, 50.73, 50.74, 50.75, 50.76, 50.77, 50.78, 50.79, 50.8 ,\n",
       "       50.81, 50.82, 50.83, 50.84, 50.85, 50.86, 50.87, 50.88, 50.89,\n",
       "       50.9 , 50.91, 50.92, 50.93, 50.94, 50.95, 50.96, 50.97, 50.98,\n",
       "       50.99, 51.  ])"
      ]
     },
     "execution_count": 37,
     "metadata": {},
     "output_type": "execute_result"
    }
   ],
   "source": [
    "# 2\n",
    "Brr = np.linspace(50, 51, 101)\n",
    "Brr"
   ]
  },
  {
   "cell_type": "markdown",
   "metadata": {},
   "source": [
    "# Plotting"
   ]
  },
  {
   "cell_type": "code",
   "execution_count": 42,
   "metadata": {},
   "outputs": [],
   "source": [
    "import matplotlib.pyplot as plt"
   ]
  },
  {
   "cell_type": "code",
   "execution_count": 43,
   "metadata": {},
   "outputs": [
    {
     "data": {
      "text/plain": [
       "array([-5.        , -4.8989899 , -4.7979798 , -4.6969697 , -4.5959596 ,\n",
       "       -4.49494949, -4.39393939, -4.29292929, -4.19191919, -4.09090909,\n",
       "       -3.98989899, -3.88888889, -3.78787879, -3.68686869, -3.58585859,\n",
       "       -3.48484848, -3.38383838, -3.28282828, -3.18181818, -3.08080808,\n",
       "       -2.97979798, -2.87878788, -2.77777778, -2.67676768, -2.57575758,\n",
       "       -2.47474747, -2.37373737, -2.27272727, -2.17171717, -2.07070707,\n",
       "       -1.96969697, -1.86868687, -1.76767677, -1.66666667, -1.56565657,\n",
       "       -1.46464646, -1.36363636, -1.26262626, -1.16161616, -1.06060606,\n",
       "       -0.95959596, -0.85858586, -0.75757576, -0.65656566, -0.55555556,\n",
       "       -0.45454545, -0.35353535, -0.25252525, -0.15151515, -0.05050505,\n",
       "        0.05050505,  0.15151515,  0.25252525,  0.35353535,  0.45454545,\n",
       "        0.55555556,  0.65656566,  0.75757576,  0.85858586,  0.95959596,\n",
       "        1.06060606,  1.16161616,  1.26262626,  1.36363636,  1.46464646,\n",
       "        1.56565657,  1.66666667,  1.76767677,  1.86868687,  1.96969697,\n",
       "        2.07070707,  2.17171717,  2.27272727,  2.37373737,  2.47474747,\n",
       "        2.57575758,  2.67676768,  2.77777778,  2.87878788,  2.97979798,\n",
       "        3.08080808,  3.18181818,  3.28282828,  3.38383838,  3.48484848,\n",
       "        3.58585859,  3.68686869,  3.78787879,  3.88888889,  3.98989899,\n",
       "        4.09090909,  4.19191919,  4.29292929,  4.39393939,  4.49494949,\n",
       "        4.5959596 ,  4.6969697 ,  4.7979798 ,  4.8989899 ,  5.        ])"
      ]
     },
     "execution_count": 43,
     "metadata": {},
     "output_type": "execute_result"
    }
   ],
   "source": [
    "x = np.linspace(-5, 5, 100)\n",
    "x"
   ]
  },
  {
   "cell_type": "code",
   "execution_count": 45,
   "metadata": {},
   "outputs": [
    {
     "data": {
      "text/plain": [
       "array([2.50000000e+01, 2.40001020e+01, 2.30206101e+01, 2.20615243e+01,\n",
       "       2.11228446e+01, 2.02045710e+01, 1.93067034e+01, 1.84292419e+01,\n",
       "       1.75721865e+01, 1.67355372e+01, 1.59192939e+01, 1.51234568e+01,\n",
       "       1.43480257e+01, 1.35930007e+01, 1.28583818e+01, 1.21441690e+01,\n",
       "       1.14503622e+01, 1.07769615e+01, 1.01239669e+01, 9.49137843e+00,\n",
       "       8.87919600e+00, 8.28741965e+00, 7.71604938e+00, 7.16508520e+00,\n",
       "       6.63452709e+00, 6.12437506e+00, 5.63462912e+00, 5.16528926e+00,\n",
       "       4.71635547e+00, 4.28782777e+00, 3.87970615e+00, 3.49199061e+00,\n",
       "       3.12468115e+00, 2.77777778e+00, 2.45128048e+00, 2.14518927e+00,\n",
       "       1.85950413e+00, 1.59422508e+00, 1.34935211e+00, 1.12488522e+00,\n",
       "       9.20824406e-01, 7.37169677e-01, 5.73921028e-01, 4.31078461e-01,\n",
       "       3.08641975e-01, 2.06611570e-01, 1.24987246e-01, 6.37690032e-02,\n",
       "       2.29568411e-02, 2.55076013e-03, 2.55076013e-03, 2.29568411e-02,\n",
       "       6.37690032e-02, 1.24987246e-01, 2.06611570e-01, 3.08641975e-01,\n",
       "       4.31078461e-01, 5.73921028e-01, 7.37169677e-01, 9.20824406e-01,\n",
       "       1.12488522e+00, 1.34935211e+00, 1.59422508e+00, 1.85950413e+00,\n",
       "       2.14518927e+00, 2.45128048e+00, 2.77777778e+00, 3.12468115e+00,\n",
       "       3.49199061e+00, 3.87970615e+00, 4.28782777e+00, 4.71635547e+00,\n",
       "       5.16528926e+00, 5.63462912e+00, 6.12437506e+00, 6.63452709e+00,\n",
       "       7.16508520e+00, 7.71604938e+00, 8.28741965e+00, 8.87919600e+00,\n",
       "       9.49137843e+00, 1.01239669e+01, 1.07769615e+01, 1.14503622e+01,\n",
       "       1.21441690e+01, 1.28583818e+01, 1.35930007e+01, 1.43480257e+01,\n",
       "       1.51234568e+01, 1.59192939e+01, 1.67355372e+01, 1.75721865e+01,\n",
       "       1.84292419e+01, 1.93067034e+01, 2.02045710e+01, 2.11228446e+01,\n",
       "       2.20615243e+01, 2.30206101e+01, 2.40001020e+01, 2.50000000e+01])"
      ]
     },
     "execution_count": 45,
     "metadata": {},
     "output_type": "execute_result"
    }
   ],
   "source": [
    "y = x * x\n",
    "y"
   ]
  },
  {
   "cell_type": "code",
   "execution_count": 46,
   "metadata": {},
   "outputs": [
    {
     "data": {
      "text/plain": [
       "[<matplotlib.lines.Line2D at 0x1bca74e9ec8>]"
      ]
     },
     "execution_count": 46,
     "metadata": {},
     "output_type": "execute_result"
    },
    {
     "data": {
      "image/png": "[encoded data removed]",
      "text/plain": [
       "<Figure size 432x288 with 1 Axes>"
      ]
     },
     "metadata": {
      "needs_background": "light"
     },
     "output_type": "display_data"
    }
   ],
   "source": [
    "plt.plot(x,y)"
   ]
  },
  {
   "cell_type": "code",
   "execution_count": 47,
   "metadata": {},
   "outputs": [
    {
     "data": {
      "text/plain": [
       "[<matplotlib.lines.Line2D at 0x1bca7cb5d08>]"
      ]
     },
     "execution_count": 47,
     "metadata": {},
     "output_type": "execute_result"
    },
    {
     "data": {
      "image/png": "[encoded data removed]",
      "text/plain": [
       "<Figure size 432x288 with 1 Axes>"
      ]
     },
     "metadata": {
      "needs_background": "light"
     },
     "output_type": "display_data"
    }
   ],
   "source": [
    "plt.plot(y)"
   ]
  },
  {
   "cell_type": "code",
   "execution_count": 49,
   "metadata": {},
   "outputs": [
    {
     "data": {
      "text/plain": [
       "[<matplotlib.lines.Line2D at 0x1bca7d8f388>]"
      ]
     },
     "execution_count": 49,
     "metadata": {},
     "output_type": "execute_result"
    },
    {
     "data": {
      "image/png": "[encoded data removed]",
      "text/plain": [
       "<Figure size 432x288 with 1 Axes>"
      ]
     },
     "metadata": {
      "needs_background": "light"
     },
     "output_type": "display_data"
    }
   ],
   "source": [
    "plt.plot(np.random.rand(10))"
   ]
  },
  {
   "cell_type": "code",
   "execution_count": 50,
   "metadata": {},
   "outputs": [
    {
     "data": {
      "text/plain": [
       "[<matplotlib.lines.Line2D at 0x1bca7cfab88>]"
      ]
     },
     "execution_count": 50,
     "metadata": {},
     "output_type": "execute_result"
    },
    {
     "data": {
      "image/png": "[encoded data removed]",
      "text/plain": [
       "<Figure size 432x288 with 1 Axes>"
      ]
     },
     "metadata": {
      "needs_background": "light"
     },
     "output_type": "display_data"
    }
   ],
   "source": [
    "plt.plot(np.random.rand(10))\n",
    "plt.plot(np.random.rand(10))"
   ]
  },
  {
   "cell_type": "code",
   "execution_count": 51,
   "metadata": {},
   "outputs": [
    {
     "data": {
      "text/plain": [
       "Text(0.5, 1.0, 'Title')"
      ]
     },
     "execution_count": 51,
     "metadata": {},
     "output_type": "execute_result"
    },
    {
     "data": {
      "image/png": "[encoded data removed]",
      "text/plain": [
       "<Figure size 432x288 with 1 Axes>"
      ]
     },
     "metadata": {
      "needs_background": "light"
     },
     "output_type": "display_data"
    }
   ],
   "source": [
    "plt.plot(np.random.rand(10))\n",
    "plt.plot(np.random.rand(10))\n",
    "plt.legend([\"curve1\", \"curve2\"])\n",
    "plt.xlabel(\"X label\")\n",
    "plt.ylabel(\"Y label\")\n",
    "plt.title(\"Title\")"
   ]
  },
  {
   "cell_type": "code",
   "execution_count": null,
   "metadata": {},
   "outputs": [],
   "source": []
  }
 ],
 "metadata": {
  "kernelspec": {
   "display_name": "Python 3",
   "language": "python",
   "name": "python3"
  },
  "language_info": {
   "codemirror_mode": {
    "name": "ipython",
    "version": 3
   },
   "file_extension": ".py",
   "mimetype": "text/x-python",
   "name": "python",
   "nbconvert_exporter": "python",
   "pygments_lexer": "ipython3",
   "version": "3.7.6"
  }
 },
 "nbformat": 4,
 "nbformat_minor": 4
}
