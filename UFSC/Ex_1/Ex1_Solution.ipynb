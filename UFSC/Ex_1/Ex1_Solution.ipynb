{
 "cells": [
  {
   "cell_type": "markdown",
   "metadata": {},
   "source": [
    "# Exercício 1\n",
    "\n",
    "**Nome:** Angela Crepaldi\n",
    "<!--Escreva os comandos abaixo para conseguir habilitar negrito e matrizes do LaTeX-->\n",
    "$\\newcommand{\\bX}{\\mathbf{X}}$\n",
    "$\\newcommand{\\bw}{\\mathbf{w}}$\n",
    "$\\newcommand{\\by}{\\mathbf{y}}$\n",
    "$\\newcommand{\\bx}{\\mathbf{x}}$\n",
    "$\\newcommand{\\bA}{\\mathbf{A}}$\n",
    "$\\newcommand{\\bB}{\\mathbf{B}}$\n",
    "$\\newcommand{\\mat}[1]{\\begin{bmatrix} #1 \\end{bmatrix}}$\n",
    "$\\newcommand{\\matt}[1]{\\begin{matrix} #1 \\end{matrix}}$\n",
    "<!--\n",
    "The following ipython magic (this is literally the name) will enable plots made by matplotlib to be rendered inside this notebook.\n",
    "%matplotlib inline\n",
    "-->"
   ]
  },
  {
   "cell_type": "code",
   "execution_count": 1,
   "metadata": {},
   "outputs": [],
   "source": [
    "# Bibliotecas\n",
    "\n",
    "import numpy as np\n",
    "import pandas as pd\n",
    "import matplotlib.pyplot as plt\n",
    "%matplotlib inline"
   ]
  },
  {
   "cell_type": "markdown",
   "metadata": {},
   "source": [
    "# 1. Manipulando arrays\n",
    "\n",
    "1. Escreva uma função do Python que implementa a [similaridade do cosseno](https://en.wikipedia.org/wiki/Cosine_similarity) (eq. A.7 do Watt) entre dois vetores, definida por\n",
    "\n",
    "$$\n",
    "{\\rm cosine\\_similarity(\\bx,\\by)} = \\frac{\\bx^T \\by}{\\|\\bx\\|\\|\\by\\|}\n",
    "$$"
   ]
  },
  {
   "cell_type": "code",
   "execution_count": 2,
   "metadata": {},
   "outputs": [
    {
     "name": "stdout",
     "output_type": "stream",
     "text": [
      "0.9128709291752769\n",
      "-0.18257418583505536\n"
     ]
    }
   ],
   "source": [
    "# Solução\n",
    "\n",
    "def cosine_similarity(x,y):\n",
    "    s = (np.transpose(x) @ y) / (np.linalg.norm(x) * np.linalg.norm(y))\n",
    "    return s\n",
    "\n",
    "# Testes\n",
    "x = np.array([1,2,3,4])\n",
    "y = np.array([2,2,2,2])\n",
    "z = np.array([2,-2,2,-2])\n",
    "print(cosine_similarity(x,y)) # = 0.9128709291752769\n",
    "print(cosine_similarity(x,z)) # = -0.18257418583505536"
   ]
  },
  {
   "cell_type": "markdown",
   "metadata": {},
   "source": [
    "2. Calcule os produtos $\\bA^T\\bB$ e $\\bB \\bA^T$, onde\n",
    "$$\\bA = \\mat{1 & 2 \\\\ 3 & 4 \\\\ 5 & 6} \\qquad \\bB = \\mat{1 & 1 \\\\ 1 & 1 \\\\ 1 & 1}$$"
   ]
  },
  {
   "cell_type": "code",
   "execution_count": 3,
   "metadata": {},
   "outputs": [
    {
     "data": {
      "text/plain": [
       "array([[1, 2],\n",
       "       [3, 4],\n",
       "       [5, 6]])"
      ]
     },
     "execution_count": 3,
     "metadata": {},
     "output_type": "execute_result"
    }
   ],
   "source": [
    "A = np.array([[1, 2], [3, 4], [5, 6]])\n",
    "A"
   ]
  },
  {
   "cell_type": "code",
   "execution_count": 4,
   "metadata": {},
   "outputs": [
    {
     "data": {
      "text/plain": [
       "array([[1., 1.],\n",
       "       [1., 1.],\n",
       "       [1., 1.]])"
      ]
     },
     "execution_count": 4,
     "metadata": {},
     "output_type": "execute_result"
    }
   ],
   "source": [
    "B = np.ones((3, 2))\n",
    "B"
   ]
  },
  {
   "cell_type": "code",
   "execution_count": 5,
   "metadata": {},
   "outputs": [
    {
     "data": {
      "text/plain": [
       "array([[ 9.,  9.],\n",
       "       [12., 12.]])"
      ]
     },
     "execution_count": 5,
     "metadata": {},
     "output_type": "execute_result"
    }
   ],
   "source": [
    "A.T @ B"
   ]
  },
  {
   "cell_type": "code",
   "execution_count": 6,
   "metadata": {},
   "outputs": [
    {
     "data": {
      "text/plain": [
       "array([[ 9., 12.],\n",
       "       [ 9., 12.]])"
      ]
     },
     "execution_count": 6,
     "metadata": {},
     "output_type": "execute_result"
    }
   ],
   "source": [
    "B.T @ A"
   ]
  },
  {
   "cell_type": "markdown",
   "metadata": {},
   "source": [
    "3. Considere os vetores abaixo."
   ]
  },
  {
   "cell_type": "code",
   "execution_count": 7,
   "metadata": {},
   "outputs": [
    {
     "data": {
      "text/plain": [
       "array([[1, 0, 1],\n",
       "       [0, 1, 0],\n",
       "       [1, 1, 1]])"
      ]
     },
     "execution_count": 7,
     "metadata": {},
     "output_type": "execute_result"
    }
   ],
   "source": [
    "A = np.array([[1,0,1],[0,1,0],[1,1,1]])\n",
    "A"
   ]
  },
  {
   "cell_type": "code",
   "execution_count": 8,
   "metadata": {},
   "outputs": [
    {
     "data": {
      "text/plain": [
       "array([1, 2, 3])"
      ]
     },
     "execution_count": 8,
     "metadata": {},
     "output_type": "execute_result"
    }
   ],
   "source": [
    "b = np.array([1,2,3])\n",
    "b"
   ]
  },
  {
   "cell_type": "markdown",
   "metadata": {},
   "source": [
    "Explique o porquê do resultado abaixo."
   ]
  },
  {
   "cell_type": "code",
   "execution_count": 9,
   "metadata": {},
   "outputs": [
    {
     "data": {
      "text/plain": [
       "True"
      ]
     },
     "execution_count": 9,
     "metadata": {},
     "output_type": "execute_result"
    }
   ],
   "source": [
    "np.all(b*A == A*b)"
   ]
  },
  {
   "cell_type": "markdown",
   "metadata": {},
   "source": [
    "Resposta:"
   ]
  },
  {
   "cell_type": "markdown",
   "metadata": {},
   "source": [
    "A operação $*$ do numpy faz uma multiplicação elemento a elemento. Para ser uma multiplicação entre arrays, é necessário utilizar o produto interno, np.dot(A, b), ou o operador @.\n",
    "\n",
    "A função np.all() compara as dimensões das matrizes e verifica se todos os elementos da matriz são verdadeiros, neste caso, a matriz testada é o resultado da comparação entre $b*A$ e $A*b$ cujos elementos correspondentes são iguais. Se apenas um elemento fosse falso, então o resultado seria falso.\n",
    "\n",
    "Detalhes abaixo:"
   ]
  },
  {
   "cell_type": "code",
   "execution_count": 10,
   "metadata": {},
   "outputs": [
    {
     "data": {
      "text/plain": [
       "array([[1, 0, 3],\n",
       "       [0, 2, 0],\n",
       "       [1, 2, 3]])"
      ]
     },
     "execution_count": 10,
     "metadata": {},
     "output_type": "execute_result"
    }
   ],
   "source": [
    "b*A"
   ]
  },
  {
   "cell_type": "code",
   "execution_count": 11,
   "metadata": {},
   "outputs": [
    {
     "data": {
      "text/plain": [
       "array([[1, 0, 3],\n",
       "       [0, 2, 0],\n",
       "       [1, 2, 3]])"
      ]
     },
     "execution_count": 11,
     "metadata": {},
     "output_type": "execute_result"
    }
   ],
   "source": [
    "A*b"
   ]
  },
  {
   "cell_type": "code",
   "execution_count": 12,
   "metadata": {},
   "outputs": [
    {
     "data": {
      "text/plain": [
       "array([[ True,  True,  True],\n",
       "       [ True,  True,  True],\n",
       "       [ True,  True,  True]])"
      ]
     },
     "execution_count": 12,
     "metadata": {},
     "output_type": "execute_result"
    }
   ],
   "source": [
    "b*A == A*b"
   ]
  },
  {
   "cell_type": "code",
   "execution_count": 13,
   "metadata": {},
   "outputs": [
    {
     "data": {
      "text/plain": [
       "array([4, 2, 6])"
      ]
     },
     "execution_count": 13,
     "metadata": {},
     "output_type": "execute_result"
    }
   ],
   "source": [
    "np.dot(A, b)"
   ]
  },
  {
   "cell_type": "code",
   "execution_count": 14,
   "metadata": {},
   "outputs": [
    {
     "data": {
      "text/plain": [
       "array([4, 5, 4])"
      ]
     },
     "execution_count": 14,
     "metadata": {},
     "output_type": "execute_result"
    }
   ],
   "source": [
    "np.dot(b, A)"
   ]
  },
  {
   "cell_type": "code",
   "execution_count": 15,
   "metadata": {},
   "outputs": [
    {
     "data": {
      "text/plain": [
       "array([4, 2, 6])"
      ]
     },
     "execution_count": 15,
     "metadata": {},
     "output_type": "execute_result"
    }
   ],
   "source": [
    "A @ b"
   ]
  },
  {
   "cell_type": "code",
   "execution_count": 16,
   "metadata": {},
   "outputs": [
    {
     "data": {
      "text/plain": [
       "array([4, 5, 4])"
      ]
     },
     "execution_count": 16,
     "metadata": {},
     "output_type": "execute_result"
    }
   ],
   "source": [
    "b @ A"
   ]
  },
  {
   "cell_type": "markdown",
   "metadata": {},
   "source": [
    "# 2. Manipulando dados\n",
    "\n",
    "1. Baixe o arquivo `bitcoin_price.csv` (**terceiro** arquivo da lista em *Data Sources*) disponível em\n",
    "\n",
    "https://www.kaggle.com/sudalairajkumar/cryptocurrencypricehistory/\n",
    "\n",
    "e salve-o numa subpasta `data`, i.e., o arquivo estará acessível em `data/bitcoin_price.csv`\n",
    "\n",
    "2. Carregue o arquivo usando a biblioteca Pandas\n",
    "3. Trace o gráfico do preço de fechamento (\"Close\") em função da data para todo o ano de 2017 (365 amostras):\n",
    " - usando a função `.plot()` do Pandas\n",
    " - convertendo para NumPy e usando Matplotlib\n",
    "\n",
    "### Dicas\n",
    "\n",
    "- Siga o notebook fornecido de exemplo do Pandas e/ou qualquer outro tutorial de Pandas (https://pandas.pydata.org/pandas-docs/stable/10min.html)"
   ]
  },
  {
   "cell_type": "code",
   "execution_count": 17,
   "metadata": {},
   "outputs": [],
   "source": [
    "import os\n",
    "# ex1_path = caminho de Ex1_Solution\n",
    "ex1_path = os.getcwd()"
   ]
  },
  {
   "cell_type": "code",
   "execution_count": 18,
   "metadata": {},
   "outputs": [
    {
     "data": {
      "text/html": [
       "<div>\n",
       "<style scoped>\n",
       "    .dataframe tbody tr th:only-of-type {\n",
       "        vertical-align: middle;\n",
       "    }\n",
       "\n",
       "    .dataframe tbody tr th {\n",
       "        vertical-align: top;\n",
       "    }\n",
       "\n",
       "    .dataframe thead th {\n",
       "        text-align: right;\n",
       "    }\n",
       "</style>\n",
       "<table border=\"1\" class=\"dataframe\">\n",
       "  <thead>\n",
       "    <tr style=\"text-align: right;\">\n",
       "      <th></th>\n",
       "      <th>Date</th>\n",
       "      <th>Open</th>\n",
       "      <th>High</th>\n",
       "      <th>Low</th>\n",
       "      <th>Close</th>\n",
       "      <th>Volume</th>\n",
       "      <th>Market Cap</th>\n",
       "    </tr>\n",
       "  </thead>\n",
       "  <tbody>\n",
       "    <tr>\n",
       "      <th>0</th>\n",
       "      <td>Feb 20, 2018</td>\n",
       "      <td>11231.8</td>\n",
       "      <td>11958.5</td>\n",
       "      <td>11231.80</td>\n",
       "      <td>11403.7</td>\n",
       "      <td>9,926,540,000</td>\n",
       "      <td>189,536,000,000</td>\n",
       "    </tr>\n",
       "    <tr>\n",
       "      <th>1</th>\n",
       "      <td>Feb 19, 2018</td>\n",
       "      <td>10552.6</td>\n",
       "      <td>11273.8</td>\n",
       "      <td>10513.20</td>\n",
       "      <td>11225.3</td>\n",
       "      <td>7,652,090,000</td>\n",
       "      <td>178,055,000,000</td>\n",
       "    </tr>\n",
       "    <tr>\n",
       "      <th>2</th>\n",
       "      <td>Feb 18, 2018</td>\n",
       "      <td>11123.4</td>\n",
       "      <td>11349.8</td>\n",
       "      <td>10326.00</td>\n",
       "      <td>10551.8</td>\n",
       "      <td>8,744,010,000</td>\n",
       "      <td>187,663,000,000</td>\n",
       "    </tr>\n",
       "    <tr>\n",
       "      <th>3</th>\n",
       "      <td>Feb 17, 2018</td>\n",
       "      <td>10207.5</td>\n",
       "      <td>11139.5</td>\n",
       "      <td>10149.40</td>\n",
       "      <td>11112.7</td>\n",
       "      <td>8,660,880,000</td>\n",
       "      <td>172,191,000,000</td>\n",
       "    </tr>\n",
       "    <tr>\n",
       "      <th>4</th>\n",
       "      <td>Feb 16, 2018</td>\n",
       "      <td>10135.7</td>\n",
       "      <td>10324.1</td>\n",
       "      <td>9824.82</td>\n",
       "      <td>10233.9</td>\n",
       "      <td>7,296,160,000</td>\n",
       "      <td>170,960,000,000</td>\n",
       "    </tr>\n",
       "  </tbody>\n",
       "</table>\n",
       "</div>"
      ],
      "text/plain": [
       "           Date     Open     High       Low    Close         Volume  \\\n",
       "0  Feb 20, 2018  11231.8  11958.5  11231.80  11403.7  9,926,540,000   \n",
       "1  Feb 19, 2018  10552.6  11273.8  10513.20  11225.3  7,652,090,000   \n",
       "2  Feb 18, 2018  11123.4  11349.8  10326.00  10551.8  8,744,010,000   \n",
       "3  Feb 17, 2018  10207.5  11139.5  10149.40  11112.7  8,660,880,000   \n",
       "4  Feb 16, 2018  10135.7  10324.1   9824.82  10233.9  7,296,160,000   \n",
       "\n",
       "        Market Cap  \n",
       "0  189,536,000,000  \n",
       "1  178,055,000,000  \n",
       "2  187,663,000,000  \n",
       "3  172,191,000,000  \n",
       "4  170,960,000,000  "
      ]
     },
     "execution_count": 18,
     "metadata": {},
     "output_type": "execute_result"
    }
   ],
   "source": [
    "# Carregando os dados usando Pandas\n",
    "btc_tbl = pd.read_csv(ex1_path + '/data/bitcoin_price.csv')\n",
    "btc_tbl.head()"
   ]
  },
  {
   "cell_type": "code",
   "execution_count": 19,
   "metadata": {},
   "outputs": [
    {
     "data": {
      "text/html": [
       "<div>\n",
       "<style scoped>\n",
       "    .dataframe tbody tr th:only-of-type {\n",
       "        vertical-align: middle;\n",
       "    }\n",
       "\n",
       "    .dataframe tbody tr th {\n",
       "        vertical-align: top;\n",
       "    }\n",
       "\n",
       "    .dataframe thead th {\n",
       "        text-align: right;\n",
       "    }\n",
       "</style>\n",
       "<table border=\"1\" class=\"dataframe\">\n",
       "  <thead>\n",
       "    <tr style=\"text-align: right;\">\n",
       "      <th></th>\n",
       "      <th>Open</th>\n",
       "      <th>High</th>\n",
       "      <th>Low</th>\n",
       "      <th>Close</th>\n",
       "      <th>Volume</th>\n",
       "      <th>Market Cap</th>\n",
       "    </tr>\n",
       "    <tr>\n",
       "      <th>Date</th>\n",
       "      <th></th>\n",
       "      <th></th>\n",
       "      <th></th>\n",
       "      <th></th>\n",
       "      <th></th>\n",
       "      <th></th>\n",
       "    </tr>\n",
       "  </thead>\n",
       "  <tbody>\n",
       "    <tr>\n",
       "      <th>2017-01-01</th>\n",
       "      <td>963.66</td>\n",
       "      <td>1003.08</td>\n",
       "      <td>958.70</td>\n",
       "      <td>998.33</td>\n",
       "      <td>147,775,000</td>\n",
       "      <td>15,491,200,000</td>\n",
       "    </tr>\n",
       "    <tr>\n",
       "      <th>2017-01-02</th>\n",
       "      <td>998.62</td>\n",
       "      <td>1031.39</td>\n",
       "      <td>996.70</td>\n",
       "      <td>1021.75</td>\n",
       "      <td>222,185,000</td>\n",
       "      <td>16,055,100,000</td>\n",
       "    </tr>\n",
       "    <tr>\n",
       "      <th>2017-01-03</th>\n",
       "      <td>1021.60</td>\n",
       "      <td>1044.08</td>\n",
       "      <td>1021.60</td>\n",
       "      <td>1043.84</td>\n",
       "      <td>185,168,000</td>\n",
       "      <td>16,426,600,000</td>\n",
       "    </tr>\n",
       "    <tr>\n",
       "      <th>2017-01-04</th>\n",
       "      <td>1044.40</td>\n",
       "      <td>1159.42</td>\n",
       "      <td>1044.40</td>\n",
       "      <td>1154.73</td>\n",
       "      <td>344,946,000</td>\n",
       "      <td>16,795,400,000</td>\n",
       "    </tr>\n",
       "    <tr>\n",
       "      <th>2017-01-05</th>\n",
       "      <td>1156.73</td>\n",
       "      <td>1191.10</td>\n",
       "      <td>910.42</td>\n",
       "      <td>1013.38</td>\n",
       "      <td>510,199,000</td>\n",
       "      <td>18,604,000,000</td>\n",
       "    </tr>\n",
       "    <tr>\n",
       "      <th>...</th>\n",
       "      <td>...</td>\n",
       "      <td>...</td>\n",
       "      <td>...</td>\n",
       "      <td>...</td>\n",
       "      <td>...</td>\n",
       "      <td>...</td>\n",
       "    </tr>\n",
       "    <tr>\n",
       "      <th>2017-12-27</th>\n",
       "      <td>16163.50</td>\n",
       "      <td>16930.90</td>\n",
       "      <td>15114.30</td>\n",
       "      <td>15838.50</td>\n",
       "      <td>12,487,600,000</td>\n",
       "      <td>270,976,000,000</td>\n",
       "    </tr>\n",
       "    <tr>\n",
       "      <th>2017-12-28</th>\n",
       "      <td>15864.10</td>\n",
       "      <td>15888.40</td>\n",
       "      <td>13937.30</td>\n",
       "      <td>14606.50</td>\n",
       "      <td>12,336,500,000</td>\n",
       "      <td>265,988,000,000</td>\n",
       "    </tr>\n",
       "    <tr>\n",
       "      <th>2017-12-29</th>\n",
       "      <td>14695.80</td>\n",
       "      <td>15279.00</td>\n",
       "      <td>14307.00</td>\n",
       "      <td>14656.20</td>\n",
       "      <td>13,025,500,000</td>\n",
       "      <td>246,428,000,000</td>\n",
       "    </tr>\n",
       "    <tr>\n",
       "      <th>2017-12-30</th>\n",
       "      <td>14681.90</td>\n",
       "      <td>14681.90</td>\n",
       "      <td>12350.10</td>\n",
       "      <td>12952.20</td>\n",
       "      <td>14,452,600,000</td>\n",
       "      <td>246,224,000,000</td>\n",
       "    </tr>\n",
       "    <tr>\n",
       "      <th>2017-12-31</th>\n",
       "      <td>12897.70</td>\n",
       "      <td>14377.40</td>\n",
       "      <td>12755.60</td>\n",
       "      <td>14156.40</td>\n",
       "      <td>12,136,300,000</td>\n",
       "      <td>216,326,000,000</td>\n",
       "    </tr>\n",
       "  </tbody>\n",
       "</table>\n",
       "<p>365 rows × 6 columns</p>\n",
       "</div>"
      ],
      "text/plain": [
       "                Open      High       Low     Close          Volume  \\\n",
       "Date                                                                 \n",
       "2017-01-01    963.66   1003.08    958.70    998.33     147,775,000   \n",
       "2017-01-02    998.62   1031.39    996.70   1021.75     222,185,000   \n",
       "2017-01-03   1021.60   1044.08   1021.60   1043.84     185,168,000   \n",
       "2017-01-04   1044.40   1159.42   1044.40   1154.73     344,946,000   \n",
       "2017-01-05   1156.73   1191.10    910.42   1013.38     510,199,000   \n",
       "...              ...       ...       ...       ...             ...   \n",
       "2017-12-27  16163.50  16930.90  15114.30  15838.50  12,487,600,000   \n",
       "2017-12-28  15864.10  15888.40  13937.30  14606.50  12,336,500,000   \n",
       "2017-12-29  14695.80  15279.00  14307.00  14656.20  13,025,500,000   \n",
       "2017-12-30  14681.90  14681.90  12350.10  12952.20  14,452,600,000   \n",
       "2017-12-31  12897.70  14377.40  12755.60  14156.40  12,136,300,000   \n",
       "\n",
       "                 Market Cap  \n",
       "Date                         \n",
       "2017-01-01   15,491,200,000  \n",
       "2017-01-02   16,055,100,000  \n",
       "2017-01-03   16,426,600,000  \n",
       "2017-01-04   16,795,400,000  \n",
       "2017-01-05   18,604,000,000  \n",
       "...                     ...  \n",
       "2017-12-27  270,976,000,000  \n",
       "2017-12-28  265,988,000,000  \n",
       "2017-12-29  246,428,000,000  \n",
       "2017-12-30  246,224,000,000  \n",
       "2017-12-31  216,326,000,000  \n",
       "\n",
       "[365 rows x 6 columns]"
      ]
     },
     "execution_count": 19,
     "metadata": {},
     "output_type": "execute_result"
    }
   ],
   "source": [
    "# Altera o formato da data\n",
    "btc_tbl['Date'] = pd.to_datetime(btc_tbl['Date'], format='%b %d, %Y')\n",
    "# Transforma a data em índice\n",
    "btc_tbl.set_index('Date', inplace=True)\n",
    "# Ordena a tabela de acordo com a data mais antiga para a mais recente\n",
    "btc_tbl = btc_tbl.sort_values('Date')\n",
    "# Seleciona apenas os dados de 2017\n",
    "btc_2017 = btc_tbl['2017']\n",
    "btc_2017"
   ]
  },
  {
   "cell_type": "code",
   "execution_count": 20,
   "metadata": {},
   "outputs": [
    {
     "data": {
      "text/plain": [
       "Text(0, 0.5, 'Close Price US$')"
      ]
     },
     "execution_count": 20,
     "metadata": {},
     "output_type": "execute_result"
    },
    {
     "data": {
      "image/png": "[encoded data removed]",
      "text/plain": [
       "<Figure size 432x288 with 1 Axes>"
      ]
     },
     "metadata": {
      "needs_background": "light"
     },
     "output_type": "display_data"
    }
   ],
   "source": [
    "# Plot usando .plot() do Pandas\n",
    "btc_2017[\"Close\"].plot(title=\"Bitcoin: Close prices in 2017\");\n",
    "plt.ylabel('Close Price US$')"
   ]
  },
  {
   "cell_type": "code",
   "execution_count": 21,
   "metadata": {},
   "outputs": [],
   "source": [
    "# Converte para Numpy\n",
    "x = btc_2017.index.values\n",
    "y = btc_2017[\"Close\"].values"
   ]
  },
  {
   "cell_type": "code",
   "execution_count": 22,
   "metadata": {},
   "outputs": [
    {
     "data": {
      "image/png": "[encoded data removed]",
      "text/plain": [
       "<Figure size 432x288 with 1 Axes>"
      ]
     },
     "metadata": {
      "needs_background": "light"
     },
     "output_type": "display_data"
    }
   ],
   "source": [
    "# Plot usando matplotlib.pyplot.plot()\n",
    "plt.plot(x, y);\n",
    "plt.xlabel(\"Date\")\n",
    "plt.ylabel(\"Close Price US$\")\n",
    "plt.title(\"Bitcoin: Close prices in 2017\");"
   ]
  },
  {
   "cell_type": "markdown",
   "metadata": {},
   "source": [
    "<!--\n",
    "# Solução do Professor\n",
    "df = df.set_index('Date')\n",
    "s = df['Close']['2017']\n",
    "s.plot()\n",
    "plt.xlabel('Date')\n",
    "plt.ylabel('Close')\n",
    "-->"
   ]
  },
  {
   "cell_type": "markdown",
   "metadata": {},
   "source": [
    "# 3. Análise de dados\n",
    "\n",
    "Agora, veremos um exemplo de análise de dados usando um conjunto de dados do livro do James _(An Introduction to Statistical Learning)_.\n",
    "\n",
    "Carregue os dados usando o comando abaixo. Lembre que a variável-alvo (rótulo, variável de saída) é a coluna `sales`."
   ]
  },
  {
   "cell_type": "code",
   "execution_count": 23,
   "metadata": {},
   "outputs": [
    {
     "data": {
      "text/html": [
       "<div>\n",
       "<style scoped>\n",
       "    .dataframe tbody tr th:only-of-type {\n",
       "        vertical-align: middle;\n",
       "    }\n",
       "\n",
       "    .dataframe tbody tr th {\n",
       "        vertical-align: top;\n",
       "    }\n",
       "\n",
       "    .dataframe thead th {\n",
       "        text-align: right;\n",
       "    }\n",
       "</style>\n",
       "<table border=\"1\" class=\"dataframe\">\n",
       "  <thead>\n",
       "    <tr style=\"text-align: right;\">\n",
       "      <th></th>\n",
       "      <th>TV</th>\n",
       "      <th>radio</th>\n",
       "      <th>newspaper</th>\n",
       "      <th>sales</th>\n",
       "    </tr>\n",
       "  </thead>\n",
       "  <tbody>\n",
       "    <tr>\n",
       "      <th>1</th>\n",
       "      <td>230.1</td>\n",
       "      <td>37.8</td>\n",
       "      <td>69.2</td>\n",
       "      <td>22.1</td>\n",
       "    </tr>\n",
       "    <tr>\n",
       "      <th>2</th>\n",
       "      <td>44.5</td>\n",
       "      <td>39.3</td>\n",
       "      <td>45.1</td>\n",
       "      <td>10.4</td>\n",
       "    </tr>\n",
       "    <tr>\n",
       "      <th>3</th>\n",
       "      <td>17.2</td>\n",
       "      <td>45.9</td>\n",
       "      <td>69.3</td>\n",
       "      <td>9.3</td>\n",
       "    </tr>\n",
       "    <tr>\n",
       "      <th>4</th>\n",
       "      <td>151.5</td>\n",
       "      <td>41.3</td>\n",
       "      <td>58.5</td>\n",
       "      <td>18.5</td>\n",
       "    </tr>\n",
       "    <tr>\n",
       "      <th>5</th>\n",
       "      <td>180.8</td>\n",
       "      <td>10.8</td>\n",
       "      <td>58.4</td>\n",
       "      <td>12.9</td>\n",
       "    </tr>\n",
       "  </tbody>\n",
       "</table>\n",
       "</div>"
      ],
      "text/plain": [
       "      TV  radio  newspaper  sales\n",
       "1  230.1   37.8       69.2   22.1\n",
       "2   44.5   39.3       45.1   10.4\n",
       "3   17.2   45.9       69.3    9.3\n",
       "4  151.5   41.3       58.5   18.5\n",
       "5  180.8   10.8       58.4   12.9"
      ]
     },
     "execution_count": 23,
     "metadata": {},
     "output_type": "execute_result"
    }
   ],
   "source": [
    "df = pd.read_csv('http://faculty.marshall.usc.edu/gareth-james/ISL/Advertising.csv', index_col=0)\n",
    "df.head() "
   ]
  },
  {
   "cell_type": "markdown",
   "metadata": {},
   "source": [
    "1. Trace o histograma de cada variável (coluna), i.e., 4 no total. Para isso, utilize a função `plt.hist()`, com parâmetro `bins=30`.\n",
    "2. Calcule a matriz de correlação entre as colunas. Dica: utilize a função `pd.DataFrame.corr()`\n",
    "3. Para cada atributo (variável de entrada), trace o gráfico do valor-alvo em função do atributo. Utilize um *scatter plot*, i.e., trace apenas os marcadores, não linhas.\n",
    "4. O que você já pode afirmar sobre os dados a partir dessa análise exploratória?"
   ]
  },
  {
   "cell_type": "code",
   "execution_count": 24,
   "metadata": {},
   "outputs": [
    {
     "data": {
      "image/png": "[encoded data removed]",
      "text/plain": [
       "<Figure size 720x432 with 4 Axes>"
      ]
     },
     "metadata": {
      "needs_background": "light"
     },
     "output_type": "display_data"
    }
   ],
   "source": [
    "# Histograma de cada variável\n",
    "df.hist(bins=30, figsize=(10,6));"
   ]
  },
  {
   "cell_type": "markdown",
   "metadata": {},
   "source": [
    "<!--\n",
    "# Histograma da coluna 1, \"TV\"\n",
    "df.hist(\"TV\", bins=30);\n",
    "# Histograma da coluna 2, \"radio\"\n",
    "df.hist(\"radio\", bins=30);\n",
    "# Histograma da coluna 3, \"newspaper\"\n",
    "df.hist(\"newspaper\", bins=30);\n",
    "# Histograma da coluna 4, \"sales\"\n",
    "df.hist(\"sales\", bins=30);\n",
    "-->"
   ]
  },
  {
   "cell_type": "code",
   "execution_count": 25,
   "metadata": {},
   "outputs": [
    {
     "data": {
      "text/html": [
       "<style  type=\"text/css\" >\n",
       "    #T_6b01d240_ecc3_11ea_b43b_448a5b47101arow0_col0 {\n",
       "            background-color:  #b40426;\n",
       "            color:  #f1f1f1;\n",
       "        }    #T_6b01d240_ecc3_11ea_b43b_448a5b47101arow0_col1 {\n",
       "            background-color:  #3b4cc0;\n",
       "            color:  #f1f1f1;\n",
       "        }    #T_6b01d240_ecc3_11ea_b43b_448a5b47101arow0_col2 {\n",
       "            background-color:  #3b4cc0;\n",
       "            color:  #f1f1f1;\n",
       "        }    #T_6b01d240_ecc3_11ea_b43b_448a5b47101arow0_col3 {\n",
       "            background-color:  #f29072;\n",
       "            color:  #000000;\n",
       "        }    #T_6b01d240_ecc3_11ea_b43b_448a5b47101arow1_col0 {\n",
       "            background-color:  #3b4cc0;\n",
       "            color:  #f1f1f1;\n",
       "        }    #T_6b01d240_ecc3_11ea_b43b_448a5b47101arow1_col1 {\n",
       "            background-color:  #b40426;\n",
       "            color:  #f1f1f1;\n",
       "        }    #T_6b01d240_ecc3_11ea_b43b_448a5b47101arow1_col2 {\n",
       "            background-color:  #a5c3fe;\n",
       "            color:  #000000;\n",
       "        }    #T_6b01d240_ecc3_11ea_b43b_448a5b47101arow1_col3 {\n",
       "            background-color:  #ead5c9;\n",
       "            color:  #000000;\n",
       "        }    #T_6b01d240_ecc3_11ea_b43b_448a5b47101arow2_col0 {\n",
       "            background-color:  #3b4cc0;\n",
       "            color:  #f1f1f1;\n",
       "        }    #T_6b01d240_ecc3_11ea_b43b_448a5b47101arow2_col1 {\n",
       "            background-color:  #a5c3fe;\n",
       "            color:  #000000;\n",
       "        }    #T_6b01d240_ecc3_11ea_b43b_448a5b47101arow2_col2 {\n",
       "            background-color:  #b40426;\n",
       "            color:  #f1f1f1;\n",
       "        }    #T_6b01d240_ecc3_11ea_b43b_448a5b47101arow2_col3 {\n",
       "            background-color:  #7597f6;\n",
       "            color:  #000000;\n",
       "        }    #T_6b01d240_ecc3_11ea_b43b_448a5b47101arow3_col0 {\n",
       "            background-color:  #f29072;\n",
       "            color:  #000000;\n",
       "        }    #T_6b01d240_ecc3_11ea_b43b_448a5b47101arow3_col1 {\n",
       "            background-color:  #ead5c9;\n",
       "            color:  #000000;\n",
       "        }    #T_6b01d240_ecc3_11ea_b43b_448a5b47101arow3_col2 {\n",
       "            background-color:  #7597f6;\n",
       "            color:  #000000;\n",
       "        }    #T_6b01d240_ecc3_11ea_b43b_448a5b47101arow3_col3 {\n",
       "            background-color:  #b40426;\n",
       "            color:  #f1f1f1;\n",
       "        }</style><table id=\"T_6b01d240_ecc3_11ea_b43b_448a5b47101a\" ><thead>    <tr>        <th class=\"blank level0\" ></th>        <th class=\"col_heading level0 col0\" >TV</th>        <th class=\"col_heading level0 col1\" >radio</th>        <th class=\"col_heading level0 col2\" >newspaper</th>        <th class=\"col_heading level0 col3\" >sales</th>    </tr></thead><tbody>\n",
       "                <tr>\n",
       "                        <th id=\"T_6b01d240_ecc3_11ea_b43b_448a5b47101alevel0_row0\" class=\"row_heading level0 row0\" >TV</th>\n",
       "                        <td id=\"T_6b01d240_ecc3_11ea_b43b_448a5b47101arow0_col0\" class=\"data row0 col0\" >1.000000</td>\n",
       "                        <td id=\"T_6b01d240_ecc3_11ea_b43b_448a5b47101arow0_col1\" class=\"data row0 col1\" >0.054809</td>\n",
       "                        <td id=\"T_6b01d240_ecc3_11ea_b43b_448a5b47101arow0_col2\" class=\"data row0 col2\" >0.056648</td>\n",
       "                        <td id=\"T_6b01d240_ecc3_11ea_b43b_448a5b47101arow0_col3\" class=\"data row0 col3\" >0.782224</td>\n",
       "            </tr>\n",
       "            <tr>\n",
       "                        <th id=\"T_6b01d240_ecc3_11ea_b43b_448a5b47101alevel0_row1\" class=\"row_heading level0 row1\" >radio</th>\n",
       "                        <td id=\"T_6b01d240_ecc3_11ea_b43b_448a5b47101arow1_col0\" class=\"data row1 col0\" >0.054809</td>\n",
       "                        <td id=\"T_6b01d240_ecc3_11ea_b43b_448a5b47101arow1_col1\" class=\"data row1 col1\" >1.000000</td>\n",
       "                        <td id=\"T_6b01d240_ecc3_11ea_b43b_448a5b47101arow1_col2\" class=\"data row1 col2\" >0.354104</td>\n",
       "                        <td id=\"T_6b01d240_ecc3_11ea_b43b_448a5b47101arow1_col3\" class=\"data row1 col3\" >0.576223</td>\n",
       "            </tr>\n",
       "            <tr>\n",
       "                        <th id=\"T_6b01d240_ecc3_11ea_b43b_448a5b47101alevel0_row2\" class=\"row_heading level0 row2\" >newspaper</th>\n",
       "                        <td id=\"T_6b01d240_ecc3_11ea_b43b_448a5b47101arow2_col0\" class=\"data row2 col0\" >0.056648</td>\n",
       "                        <td id=\"T_6b01d240_ecc3_11ea_b43b_448a5b47101arow2_col1\" class=\"data row2 col1\" >0.354104</td>\n",
       "                        <td id=\"T_6b01d240_ecc3_11ea_b43b_448a5b47101arow2_col2\" class=\"data row2 col2\" >1.000000</td>\n",
       "                        <td id=\"T_6b01d240_ecc3_11ea_b43b_448a5b47101arow2_col3\" class=\"data row2 col3\" >0.228299</td>\n",
       "            </tr>\n",
       "            <tr>\n",
       "                        <th id=\"T_6b01d240_ecc3_11ea_b43b_448a5b47101alevel0_row3\" class=\"row_heading level0 row3\" >sales</th>\n",
       "                        <td id=\"T_6b01d240_ecc3_11ea_b43b_448a5b47101arow3_col0\" class=\"data row3 col0\" >0.782224</td>\n",
       "                        <td id=\"T_6b01d240_ecc3_11ea_b43b_448a5b47101arow3_col1\" class=\"data row3 col1\" >0.576223</td>\n",
       "                        <td id=\"T_6b01d240_ecc3_11ea_b43b_448a5b47101arow3_col2\" class=\"data row3 col2\" >0.228299</td>\n",
       "                        <td id=\"T_6b01d240_ecc3_11ea_b43b_448a5b47101arow3_col3\" class=\"data row3 col3\" >1.000000</td>\n",
       "            </tr>\n",
       "    </tbody></table>"
      ],
      "text/plain": [
       "<pandas.io.formats.style.Styler at 0x2a035d06ac8>"
      ]
     },
     "execution_count": 25,
     "metadata": {},
     "output_type": "execute_result"
    }
   ],
   "source": [
    "# Matriz de correlação entre as colunas\n",
    "dfcorr = df.corr()\n",
    "dfcorr.style.background_gradient(cmap='coolwarm', axis=None)"
   ]
  },
  {
   "cell_type": "code",
   "execution_count": 26,
   "metadata": {},
   "outputs": [
    {
     "data": {
      "image/png": "[encoded data removed]",
      "text/plain": [
       "<Figure size 864x288 with 3 Axes>"
      ]
     },
     "metadata": {
      "needs_background": "light"
     },
     "output_type": "display_data"
    }
   ],
   "source": [
    "# Gráfico do valor-alvo em função do atributo. Utilize um scatter plot.\n",
    "fig, axes = plt.subplots(nrows=1, ncols=3, figsize=(12,4))\n",
    "plt.subplots_adjust(wspace=0.3, hspace=0.5)\n",
    "df.plot.scatter(x=\"TV\", y=\"sales\", ax=axes[0]);\n",
    "df.plot.scatter(x=\"radio\", y=\"sales\", ax=axes[1]);\n",
    "df.plot.scatter(x=\"newspaper\", y=\"sales\", ax=axes[2]);"
   ]
  },
  {
   "cell_type": "markdown",
   "metadata": {},
   "source": [
    "**4. Resposta**:\n",
    "Pelos gráficos de vendas por publicidade em meio de comunicação, parece que o aumento que o aumento de propaganda em rádio e TV aumenta as vendas, enquando que nos jornais o aumento de publicidade não parece gerar um aumento nas vendas. Pela tabela de correlação, há uma engajamento maior entre publicidade na TV e vendas e baixo engajamento entre publicidade nos jornais e vendas e o rádio fica numa faixa intermediária."
   ]
  },
  {
   "cell_type": "markdown",
   "metadata": {},
   "source": [
    "5. Extraia a matriz de projeto $\\bX$ e vetor de rótulos $\\by$. Dica: utilize a função do pandas `.to_numpy()`\n",
    "1. Separe o conjunto de dados aleatoriamente em conjuntos de treinamento e teste, nas proporções 80% e 20%, respectivamente. Para isso, utilize a função `train_test_split()` da biblioteca scikit-learn."
   ]
  },
  {
   "cell_type": "code",
   "execution_count": 27,
   "metadata": {},
   "outputs": [
    {
     "name": "stdout",
     "output_type": "stream",
     "text": [
      "(200, 3)\n",
      "(200,)\n"
     ]
    }
   ],
   "source": [
    "# Matriz de projeto X - Todas as colunas do DataFrame exceto o índice.\n",
    "X = df[[\"TV\", \"radio\", \"newspaper\"]].to_numpy()\n",
    "# Vetor de rótulos y - Coluna \"sales\"\n",
    "y = df[\"sales\"].to_numpy() \n",
    "print(X.shape)\n",
    "print(y.shape)"
   ]
  },
  {
   "cell_type": "code",
   "execution_count": 28,
   "metadata": {},
   "outputs": [],
   "source": [
    "from sklearn.model_selection import train_test_split"
   ]
  },
  {
   "cell_type": "code",
   "execution_count": 29,
   "metadata": {},
   "outputs": [
    {
     "name": "stdout",
     "output_type": "stream",
     "text": [
      "(160, 3) (160,)\n",
      "(40, 3) (40,)\n"
     ]
    }
   ],
   "source": [
    "# Separação em conjuntos de treinamento e teste\n",
    "X_train, X_test, y_train, y_test = train_test_split(X, y, test_size=0.2, random_state=0)\n",
    "print(X_train.shape, y_train.shape)\n",
    "print(X_test.shape, y_test.shape)"
   ]
  },
  {
   "cell_type": "markdown",
   "metadata": {},
   "source": [
    "7. Treine um modelo de regressão linear sobre o **conjunto de treinamento**. Para isso, utilize a função `sklearn.linear_model.LinearRegression()` da biblioteca sklearn. \n",
    "7. Calcule a raiz do erro quadrático médio (RMSE) da predição sobre o conjunto de treinamento e sobre o conjunto de teste. Para isso, utilize a função `sklearn.metrics.mean_squared_error()` do sklearn."
   ]
  },
  {
   "cell_type": "code",
   "execution_count": 30,
   "metadata": {},
   "outputs": [],
   "source": [
    "from sklearn.linear_model import LinearRegression\n",
    "from sklearn.metrics import mean_squared_error"
   ]
  },
  {
   "cell_type": "code",
   "execution_count": 31,
   "metadata": {},
   "outputs": [
    {
     "data": {
      "text/plain": [
       "LinearRegression(copy_X=True, fit_intercept=True, n_jobs=None, normalize=False)"
      ]
     },
     "execution_count": 31,
     "metadata": {},
     "output_type": "execute_result"
    }
   ],
   "source": [
    "# Treinamento do modelo de regressão linear\n",
    "model = LinearRegression()\n",
    "model.fit(X_train, y_train)"
   ]
  },
  {
   "cell_type": "code",
   "execution_count": 32,
   "metadata": {},
   "outputs": [
    {
     "name": "stdout",
     "output_type": "stream",
     "text": [
      "Train RMSE: 1.5513912323520802\n",
      "Test RMSE: 2.098122563495681\n"
     ]
    }
   ],
   "source": [
    "# Cálculo da raiz do erro quadrático médio (RMSE)\n",
    "# RMSE sobre o conjunto de treinamento\n",
    "y_train_predict = model.predict(X_train)\n",
    "rmse_train = (np.sqrt(mean_squared_error(y_train, y_train_predict)))\n",
    "print('Train RMSE:', rmse_train)\n",
    "# RMSE sobre o conjunto de teste\n",
    "y_test_predict = model.predict(X_test)\n",
    "rmse_test = (np.sqrt(mean_squared_error(y_test, y_test_predict)))\n",
    "print('Test RMSE:', rmse_test)"
   ]
  },
  {
   "cell_type": "markdown",
   "metadata": {},
   "source": [
    "9. (OPCIONAL) Encontre alguma forma de visualizar o modelo treinado ou suas predições."
   ]
  },
  {
   "cell_type": "code",
   "execution_count": 33,
   "metadata": {},
   "outputs": [
    {
     "data": {
      "image/png": "[encoded data removed]",
      "text/plain": [
       "<Figure size 864x288 with 2 Axes>"
      ]
     },
     "metadata": {
      "needs_background": "light"
     },
     "output_type": "display_data"
    }
   ],
   "source": [
    "plt.figure(figsize=(12,4))\n",
    "plt.suptitle('Visualização das predições com o modelo treinado')\n",
    "\n",
    "plt.subplot(1,2,1)\n",
    "idx1 = y_test.argsort()\n",
    "plt.scatter(y_test, y_test_predict, color='red')\n",
    "plt.plot(y_test[idx1], y_test[idx1], 'k-');\n",
    "plt.xlabel('y_test')\n",
    "plt.ylabel('y_test_predict');\n",
    "\n",
    "plt.subplot(1,2,2)\n",
    "idx2 = y_train.argsort()\n",
    "plt.scatter(y_train, y_train_predict, color='orange')\n",
    "plt.plot(y_train[idx2], y_train[idx2], 'k-');\n",
    "plt.xlabel('y_train')\n",
    "plt.ylabel('y_train_predict');"
   ]
  },
  {
   "cell_type": "markdown",
   "metadata": {},
   "source": [
    "<!--\n",
    "# TV\n",
    "TV_train = X_train[:,0].reshape(-1, 1)\n",
    "TV_test = X_test[:,0].reshape(-1, 1)\n",
    "# Treinamento do modelo de regressão linear\n",
    "model_TV = LinearRegression()\n",
    "model_TV.fit(TV_train, y_train)\n",
    "# Plot TV\n",
    "df.plot(x='TV', y='sales', kind='scatter')\n",
    "TV = np.linspace(0, 299, 100).reshape(-1, 1)\n",
    "plt.plot(TV, model_TV.predict(TV), 'r');\n",
    "\n",
    "# radio\n",
    "radio_train = X_train[:,1].reshape(-1, 1)\n",
    "radio_test = X_test[:,1].reshape(-1, 1)\n",
    "# Treinamento do modelo de regressão linear\n",
    "model_radio = LinearRegression()\n",
    "model_radio.fit(radio_train, y_train)\n",
    "# Plot radio\n",
    "df.plot(x='radio', y='sales', kind='scatter')\n",
    "radio = np.linspace(0, 49, 20).reshape(-1, 1)\n",
    "plt.plot(radio, model_radio.predict(radio), 'r');\n",
    "\n",
    "# newspaper\n",
    "newspaper_train = X_train[:,2].reshape(-1, 1)\n",
    "newspaper_test = X_test[:,2].reshape(-1, 1)\n",
    "# Treinamento do modelo de regressão linear\n",
    "model_newspaper = LinearRegression()\n",
    "model_newspaper.fit(newspaper_train, y_train)\n",
    "# Plot newspaper\n",
    "df.plot(x='newspaper', y='sales', kind='scatter')\n",
    "newspaper = np.linspace(0, 119, 50).reshape(-1, 1)\n",
    "plt.plot(newspaper, model_newspaper.predict(newspaper), 'r');\n",
    "-->"
   ]
  },
  {
   "cell_type": "markdown",
   "metadata": {},
   "source": [
    "<!-- \n",
    "np.transpose(A) @ B\n",
    "np.transpose(B) @ A\n",
    "-->"
   ]
  },
  {
   "cell_type": "markdown",
   "metadata": {},
   "source": [
    "<!--\n",
    "\n",
    "Este funcionou, mas o eixo x ficou como inteiro e não como data.\n",
    "\n",
    "# import datetime as dt\n",
    "\n",
    "# define índices iniciais e finais\n",
    "row_1 = btc_tbl[btc_tbl['Date'].isin(['Jan 01, 2017'])]\n",
    "index1 = row_1.index\n",
    "i1 = index1.to_numpy()\n",
    "last = i1[0] + 1\n",
    "row_2 = btc_tbl[btc_tbl['Date'].isin(['Dec 31, 2017'])]\n",
    "index2 = row_2.index\n",
    "i2 = index2.to_numpy()\n",
    "first = i2[0]\n",
    "btc_plt = btc_tbl[first:last]\n",
    "\n",
    "# reverte \n",
    "rev_btc = btc_plt.iloc[::-1].reset_index(drop=True)\n",
    "rev_btc.head(5)\n",
    "\n",
    "# plot\n",
    "rev_btc[\"Close\"].plot(title=\"Bitcoin: Close prices in 2017\");\n",
    "\n",
    "# reverte \n",
    "# rev_btc_2017 = btc_2017.iloc[::-1].reset_index(drop=True)\n",
    "# rev_btc_2017.head(5)\n",
    "\n",
    "# Seleciona apenas os dados de 2017\n",
    "# From = '2017-01-01'\n",
    "# To   = '2017-12-31'\n",
    "# btc_2017 = btc_tbl.loc[From:To,:]\n",
    "# btc_2017\n",
    "-->"
   ]
  },
  {
   "cell_type": "markdown",
   "metadata": {},
   "source": [
    "<!--\n",
    "# Poderia calcular o erro absoluto, erro percentual, R^2\n",
    "\n",
    "\n",
    "Testes que não funcionaram\n",
    "\n",
    "# bitcoin_price = pd.read_csv(ex1_path + '/data/bitcoin_price.csv')  #, index_col=0, parse_dates=True)\n",
    "\n",
    "# bitcoin_price.head(5)\n",
    "# bitcoin_price[\"Close\"].plot()\n",
    "\n",
    "# bitcoin_price_test = bitcoin_price.rename(columns={\"Date\": \"datetime\"})\n",
    "# bitcoin_price_test\n",
    "\n",
    "# bitcoin_price_test[\"datetime\"] = pd.to_datetime(bitcoin_price_test[\"datetime\"])\n",
    "\n",
    "# tmin = bitcoin_price_test[\"datetime\"].min()\n",
    "# tmin\n",
    "\n",
    "# bitcoin_price_test[\"year\"] = bitcoin_price_test[\"datetime\"].dt.year\n",
    "\n",
    "# bitcoin_price_test.head()\n",
    "\n",
    "# test = bitcoin_price_test.groupby(bitcoin_price_test[\"datetime\"].dt.year)[\"Close\"].max()\n",
    "\n",
    "# test\n",
    "# btc_2017 = bitcoin_price_test.pivot(index=\"datetime\", columns=\"datetime\", values=\"Close\")\n",
    "\n",
    "# bitcoin_price_2017 = bitcoin_price.iloc[51: 416,:]\n",
    "# bitcoin_price_2017[\"Close\"].plot()\n",
    "\n",
    "# New\n",
    "\n",
    "# bitcoin_price = pd.read_csv(ex1_path + '/data/bitcoin_price.csv', index_col=0, parse_dates=True)\n",
    "# bitcoin_price\n",
    "\n",
    "# start = bitcoin_price.index.searchsorted(dt.datetime(2017, 1, 1))\n",
    "# end = bitcoin_price.index.searchsorted(dt.datetime(2017, 12, 31))\n",
    "# start = bitcoin_price.index.searchsorted(\"2017-01-01\")\n",
    "# end = bitcoin_price.index.searchsorted(\"2017-12-31\")\n",
    "# print(f\"start = {start}: end = {end}\")\n",
    "\n",
    "# btc_2017 = bitcoin_price['20170101':'20171231']\n",
    "# btc_2017.head(1)\n",
    "\n",
    "# bitcoin_price.sort_index('Date')\n",
    "\n",
    "-->"
   ]
  }
 ],
 "metadata": {
  "kernelspec": {
   "display_name": "Python 3",
   "language": "python",
   "name": "python3"
  },
  "language_info": {
   "codemirror_mode": {
    "name": "ipython",
    "version": 3
   },
   "file_extension": ".py",
   "mimetype": "text/x-python",
   "name": "python",
   "nbconvert_exporter": "python",
   "pygments_lexer": "ipython3",
   "version": "3.7.6"
  }
 },
 "nbformat": 4,
 "nbformat_minor": 4
}
