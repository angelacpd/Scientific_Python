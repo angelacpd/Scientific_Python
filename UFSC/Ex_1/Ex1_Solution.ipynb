{
 "cells": [
  {
   "cell_type": "markdown",
   "metadata": {},
   "source": [
    "# Exercício 1\n",
    "\n",
    "**Nome:** Angela Crepaldi"
   ]
  },
  {
   "cell_type": "code",
   "execution_count": 1,
   "metadata": {},
   "outputs": [],
   "source": [
    "# Bibliotecas\n",
    "\n",
    "import numpy as np\n",
    "import pandas as pd\n",
    "import matplotlib.pyplot as plt\n",
    "%matplotlib inline"
   ]
  },
  {
   "cell_type": "code",
   "execution_count": 2,
   "metadata": {},
   "outputs": [],
   "source": [
    "# Caminho para Exercício 1\n",
    "\n",
    "import os\n",
    "ex1_path = os.getcwd()"
   ]
  },
  {
   "cell_type": "markdown",
   "metadata": {},
   "source": [
    "# 1. Manipulando arrays\n",
    "\n",
    "1. Escreva uma função do Python que implementa a [similaridade do cosseno](https://en.wikipedia.org/wiki/Cosine_similarity) (eq. A.7 do Watt) entre dois vetores, definida por\n",
    "\n",
    "$$\n",
    "{\\rm cosine\\_similarity(\\boldsymbol{x},\\boldsymbol{y})} = \\frac{\\boldsymbol{x}^T \\boldsymbol{y}}{\\|\\boldsymbol{x}\\|\\|\\boldsymbol{y}\\|}\n",
    "$$"
   ]
  },
  {
   "cell_type": "code",
   "execution_count": 3,
   "metadata": {},
   "outputs": [
    {
     "name": "stdout",
     "output_type": "stream",
     "text": [
      "0.9128709291752769\n",
      "-0.18257418583505536\n"
     ]
    }
   ],
   "source": [
    "# Solução\n",
    "\n",
    "def cosine_similarity(x,y):\n",
    "    s = (np.transpose(x) @ y) / (np.linalg.norm(x) * np.linalg.norm(y))\n",
    "    return s\n",
    "\n",
    "# Testes\n",
    "x = np.array([1,2,3,4])\n",
    "y = np.array([2,2,2,2])\n",
    "z = np.array([2,-2,2,-2])\n",
    "print(cosine_similarity(x,y)) # = 0.9128709291752769\n",
    "print(cosine_similarity(x,z)) # = -0.18257418583505536"
   ]
  },
  {
   "cell_type": "markdown",
   "metadata": {},
   "source": [
    "2. Calcule os produtos $\\bA^T\\bB$ e $\\bB \\bA^T$, onde\n",
    "$$\\bA = \\mat{1 & 2 \\\\ 3 & 4 \\\\ 5 & 6} \\qquad \\bB = \\mat{1 & 1 \\\\ 1 & 1 \\\\ 1 & 1}$$"
   ]
  },
  {
   "cell_type": "code",
   "execution_count": 4,
   "metadata": {},
   "outputs": [
    {
     "data": {
      "text/plain": [
       "array([[1, 2],\n",
       "       [3, 4],\n",
       "       [5, 6]])"
      ]
     },
     "execution_count": 4,
     "metadata": {},
     "output_type": "execute_result"
    }
   ],
   "source": [
    "A = np.array([[1, 2], [3, 4], [5, 6]])\n",
    "A"
   ]
  },
  {
   "cell_type": "code",
   "execution_count": 5,
   "metadata": {},
   "outputs": [
    {
     "data": {
      "text/plain": [
       "array([[1., 1.],\n",
       "       [1., 1.],\n",
       "       [1., 1.]])"
      ]
     },
     "execution_count": 5,
     "metadata": {},
     "output_type": "execute_result"
    }
   ],
   "source": [
    "B = np.ones((3, 2))\n",
    "B"
   ]
  },
  {
   "cell_type": "code",
   "execution_count": 6,
   "metadata": {},
   "outputs": [
    {
     "data": {
      "text/plain": [
       "array([[ 9.,  9.],\n",
       "       [12., 12.]])"
      ]
     },
     "execution_count": 6,
     "metadata": {},
     "output_type": "execute_result"
    }
   ],
   "source": [
    "np.transpose(A) @ B"
   ]
  },
  {
   "cell_type": "code",
   "execution_count": 7,
   "metadata": {},
   "outputs": [
    {
     "data": {
      "text/plain": [
       "array([[ 9., 12.],\n",
       "       [ 9., 12.]])"
      ]
     },
     "execution_count": 7,
     "metadata": {},
     "output_type": "execute_result"
    }
   ],
   "source": [
    "np.transpose(B) @ A"
   ]
  },
  {
   "cell_type": "markdown",
   "metadata": {},
   "source": [
    "3. Considere os vetores abaixo."
   ]
  },
  {
   "cell_type": "code",
   "execution_count": 8,
   "metadata": {},
   "outputs": [
    {
     "data": {
      "text/plain": [
       "array([[1, 0, 1],\n",
       "       [0, 1, 0],\n",
       "       [1, 1, 1]])"
      ]
     },
     "execution_count": 8,
     "metadata": {},
     "output_type": "execute_result"
    }
   ],
   "source": [
    "A = np.array([[1,0,1],[0,1,0],[1,1,1]])\n",
    "A"
   ]
  },
  {
   "cell_type": "code",
   "execution_count": 9,
   "metadata": {},
   "outputs": [
    {
     "data": {
      "text/plain": [
       "array([1, 2, 3])"
      ]
     },
     "execution_count": 9,
     "metadata": {},
     "output_type": "execute_result"
    }
   ],
   "source": [
    "b = np.array([1,2,3])\n",
    "b"
   ]
  },
  {
   "cell_type": "markdown",
   "metadata": {},
   "source": [
    "Explique o porquê do resultado abaixo."
   ]
  },
  {
   "cell_type": "code",
   "execution_count": 10,
   "metadata": {},
   "outputs": [
    {
     "data": {
      "text/plain": [
       "True"
      ]
     },
     "execution_count": 10,
     "metadata": {},
     "output_type": "execute_result"
    }
   ],
   "source": [
    "np.all(b*A == A*b)"
   ]
  },
  {
   "cell_type": "markdown",
   "metadata": {},
   "source": [
    "Resposta:"
   ]
  },
  {
   "cell_type": "markdown",
   "metadata": {},
   "source": [
    "A função np.all() testa se todos os elementos da matriz são verdadeiros, neste caso, a matriz é o resultado da comparação entre $b*A$ e $A*b$ cujos elementos correspondentes são iguais. \n",
    "\n",
    "A operação $*$ no python faz uma multiplicação elemento a elemento. Para ser uma multiplicação entre arrays, é necessário utilizar o produto interno, np.dot(A, b), ou o operador @."
   ]
  },
  {
   "cell_type": "code",
   "execution_count": 11,
   "metadata": {},
   "outputs": [
    {
     "data": {
      "text/plain": [
       "array([[1, 0, 3],\n",
       "       [0, 2, 0],\n",
       "       [1, 2, 3]])"
      ]
     },
     "execution_count": 11,
     "metadata": {},
     "output_type": "execute_result"
    }
   ],
   "source": [
    "b*A"
   ]
  },
  {
   "cell_type": "code",
   "execution_count": 12,
   "metadata": {},
   "outputs": [
    {
     "data": {
      "text/plain": [
       "array([[1, 0, 3],\n",
       "       [0, 2, 0],\n",
       "       [1, 2, 3]])"
      ]
     },
     "execution_count": 12,
     "metadata": {},
     "output_type": "execute_result"
    }
   ],
   "source": [
    "A*b"
   ]
  },
  {
   "cell_type": "code",
   "execution_count": 13,
   "metadata": {},
   "outputs": [
    {
     "data": {
      "text/plain": [
       "array([4, 2, 6])"
      ]
     },
     "execution_count": 13,
     "metadata": {},
     "output_type": "execute_result"
    }
   ],
   "source": [
    "np.dot(A, b)"
   ]
  },
  {
   "cell_type": "code",
   "execution_count": 14,
   "metadata": {},
   "outputs": [
    {
     "data": {
      "text/plain": [
       "array([4, 5, 4])"
      ]
     },
     "execution_count": 14,
     "metadata": {},
     "output_type": "execute_result"
    }
   ],
   "source": [
    "np.dot(b, A)"
   ]
  },
  {
   "cell_type": "code",
   "execution_count": 15,
   "metadata": {},
   "outputs": [
    {
     "data": {
      "text/plain": [
       "array([4, 2, 6])"
      ]
     },
     "execution_count": 15,
     "metadata": {},
     "output_type": "execute_result"
    }
   ],
   "source": [
    "A @ b"
   ]
  },
  {
   "cell_type": "code",
   "execution_count": 16,
   "metadata": {},
   "outputs": [
    {
     "data": {
      "text/plain": [
       "array([4, 5, 4])"
      ]
     },
     "execution_count": 16,
     "metadata": {},
     "output_type": "execute_result"
    }
   ],
   "source": [
    "b @ A"
   ]
  },
  {
   "cell_type": "markdown",
   "metadata": {},
   "source": [
    "# 2. Manipulando dados\n",
    "\n",
    "1. Baixe o arquivo `bitcoin_price.csv` (**terceiro** arquivo da lista em *Data Sources*) disponível em\n",
    "\n",
    "https://www.kaggle.com/sudalairajkumar/cryptocurrencypricehistory/\n",
    "\n",
    "e salve-o numa subpasta `data`, i.e., o arquivo estará acessível em `data/bitcoin_price.csv`\n",
    "\n",
    "2. Carregue o arquivo usando a biblioteca Pandas\n",
    "3. Trace o gráfico do preço de fechamento (\"Close\") em função da data para todo o ano de 2017 (365 amostras):\n",
    " - usando a função `.plot()` do Pandas\n",
    " - convertendo para NumPy e usando Matplotlib\n",
    "\n",
    "### Dicas\n",
    "\n",
    "- Siga o notebook fornecido de exemplo do Pandas e/ou qualquer outro tutorial de Pandas (https://pandas.pydata.org/pandas-docs/stable/10min.html)"
   ]
  },
  {
   "cell_type": "code",
   "execution_count": 17,
   "metadata": {},
   "outputs": [],
   "source": [
    "btc_tbl = pd.read_csv(ex1_path + '/data/bitcoin_price.csv')"
   ]
  },
  {
   "cell_type": "code",
   "execution_count": 18,
   "metadata": {},
   "outputs": [
    {
     "data": {
      "text/html": [
       "<div>\n",
       "<style scoped>\n",
       "    .dataframe tbody tr th:only-of-type {\n",
       "        vertical-align: middle;\n",
       "    }\n",
       "\n",
       "    .dataframe tbody tr th {\n",
       "        vertical-align: top;\n",
       "    }\n",
       "\n",
       "    .dataframe thead th {\n",
       "        text-align: right;\n",
       "    }\n",
       "</style>\n",
       "<table border=\"1\" class=\"dataframe\">\n",
       "  <thead>\n",
       "    <tr style=\"text-align: right;\">\n",
       "      <th></th>\n",
       "      <th>Date</th>\n",
       "      <th>Open</th>\n",
       "      <th>High</th>\n",
       "      <th>Low</th>\n",
       "      <th>Close</th>\n",
       "      <th>Volume</th>\n",
       "      <th>Market Cap</th>\n",
       "    </tr>\n",
       "  </thead>\n",
       "  <tbody>\n",
       "    <tr>\n",
       "      <th>0</th>\n",
       "      <td>Feb 20, 2018</td>\n",
       "      <td>11231.8</td>\n",
       "      <td>11958.5</td>\n",
       "      <td>11231.80</td>\n",
       "      <td>11403.7</td>\n",
       "      <td>9,926,540,000</td>\n",
       "      <td>189,536,000,000</td>\n",
       "    </tr>\n",
       "    <tr>\n",
       "      <th>1</th>\n",
       "      <td>Feb 19, 2018</td>\n",
       "      <td>10552.6</td>\n",
       "      <td>11273.8</td>\n",
       "      <td>10513.20</td>\n",
       "      <td>11225.3</td>\n",
       "      <td>7,652,090,000</td>\n",
       "      <td>178,055,000,000</td>\n",
       "    </tr>\n",
       "    <tr>\n",
       "      <th>2</th>\n",
       "      <td>Feb 18, 2018</td>\n",
       "      <td>11123.4</td>\n",
       "      <td>11349.8</td>\n",
       "      <td>10326.00</td>\n",
       "      <td>10551.8</td>\n",
       "      <td>8,744,010,000</td>\n",
       "      <td>187,663,000,000</td>\n",
       "    </tr>\n",
       "    <tr>\n",
       "      <th>3</th>\n",
       "      <td>Feb 17, 2018</td>\n",
       "      <td>10207.5</td>\n",
       "      <td>11139.5</td>\n",
       "      <td>10149.40</td>\n",
       "      <td>11112.7</td>\n",
       "      <td>8,660,880,000</td>\n",
       "      <td>172,191,000,000</td>\n",
       "    </tr>\n",
       "    <tr>\n",
       "      <th>4</th>\n",
       "      <td>Feb 16, 2018</td>\n",
       "      <td>10135.7</td>\n",
       "      <td>10324.1</td>\n",
       "      <td>9824.82</td>\n",
       "      <td>10233.9</td>\n",
       "      <td>7,296,160,000</td>\n",
       "      <td>170,960,000,000</td>\n",
       "    </tr>\n",
       "  </tbody>\n",
       "</table>\n",
       "</div>"
      ],
      "text/plain": [
       "           Date     Open     High       Low    Close         Volume  \\\n",
       "0  Feb 20, 2018  11231.8  11958.5  11231.80  11403.7  9,926,540,000   \n",
       "1  Feb 19, 2018  10552.6  11273.8  10513.20  11225.3  7,652,090,000   \n",
       "2  Feb 18, 2018  11123.4  11349.8  10326.00  10551.8  8,744,010,000   \n",
       "3  Feb 17, 2018  10207.5  11139.5  10149.40  11112.7  8,660,880,000   \n",
       "4  Feb 16, 2018  10135.7  10324.1   9824.82  10233.9  7,296,160,000   \n",
       "\n",
       "        Market Cap  \n",
       "0  189,536,000,000  \n",
       "1  178,055,000,000  \n",
       "2  187,663,000,000  \n",
       "3  172,191,000,000  \n",
       "4  170,960,000,000  "
      ]
     },
     "execution_count": 18,
     "metadata": {},
     "output_type": "execute_result"
    }
   ],
   "source": [
    "btc_tbl.head(5)"
   ]
  },
  {
   "cell_type": "code",
   "execution_count": 19,
   "metadata": {},
   "outputs": [],
   "source": [
    "row_1 = btc_tbl[btc_tbl['Date'].isin(['Jan 01, 2017'])]\n",
    "index1 = row_1.index\n",
    "i1 = index1.to_numpy()\n",
    "last = i1[0] + 1\n",
    "row_2 = btc_tbl[btc_tbl['Date'].isin(['Dec 31, 2017'])]\n",
    "index2 = row_2.index\n",
    "i2 = index2.to_numpy()\n",
    "first = i2[0]\n",
    "btc_plt = btc_tbl[first:last]"
   ]
  },
  {
   "cell_type": "code",
   "execution_count": 20,
   "metadata": {},
   "outputs": [
    {
     "data": {
      "text/html": [
       "<div>\n",
       "<style scoped>\n",
       "    .dataframe tbody tr th:only-of-type {\n",
       "        vertical-align: middle;\n",
       "    }\n",
       "\n",
       "    .dataframe tbody tr th {\n",
       "        vertical-align: top;\n",
       "    }\n",
       "\n",
       "    .dataframe thead th {\n",
       "        text-align: right;\n",
       "    }\n",
       "</style>\n",
       "<table border=\"1\" class=\"dataframe\">\n",
       "  <thead>\n",
       "    <tr style=\"text-align: right;\">\n",
       "      <th></th>\n",
       "      <th>Date</th>\n",
       "      <th>Open</th>\n",
       "      <th>High</th>\n",
       "      <th>Low</th>\n",
       "      <th>Close</th>\n",
       "      <th>Volume</th>\n",
       "      <th>Market Cap</th>\n",
       "    </tr>\n",
       "  </thead>\n",
       "  <tbody>\n",
       "    <tr>\n",
       "      <th>0</th>\n",
       "      <td>Jan 01, 2017</td>\n",
       "      <td>963.66</td>\n",
       "      <td>1003.08</td>\n",
       "      <td>958.70</td>\n",
       "      <td>998.33</td>\n",
       "      <td>147,775,000</td>\n",
       "      <td>15,491,200,000</td>\n",
       "    </tr>\n",
       "    <tr>\n",
       "      <th>1</th>\n",
       "      <td>Jan 02, 2017</td>\n",
       "      <td>998.62</td>\n",
       "      <td>1031.39</td>\n",
       "      <td>996.70</td>\n",
       "      <td>1021.75</td>\n",
       "      <td>222,185,000</td>\n",
       "      <td>16,055,100,000</td>\n",
       "    </tr>\n",
       "    <tr>\n",
       "      <th>2</th>\n",
       "      <td>Jan 03, 2017</td>\n",
       "      <td>1021.60</td>\n",
       "      <td>1044.08</td>\n",
       "      <td>1021.60</td>\n",
       "      <td>1043.84</td>\n",
       "      <td>185,168,000</td>\n",
       "      <td>16,426,600,000</td>\n",
       "    </tr>\n",
       "    <tr>\n",
       "      <th>3</th>\n",
       "      <td>Jan 04, 2017</td>\n",
       "      <td>1044.40</td>\n",
       "      <td>1159.42</td>\n",
       "      <td>1044.40</td>\n",
       "      <td>1154.73</td>\n",
       "      <td>344,946,000</td>\n",
       "      <td>16,795,400,000</td>\n",
       "    </tr>\n",
       "    <tr>\n",
       "      <th>4</th>\n",
       "      <td>Jan 05, 2017</td>\n",
       "      <td>1156.73</td>\n",
       "      <td>1191.10</td>\n",
       "      <td>910.42</td>\n",
       "      <td>1013.38</td>\n",
       "      <td>510,199,000</td>\n",
       "      <td>18,604,000,000</td>\n",
       "    </tr>\n",
       "  </tbody>\n",
       "</table>\n",
       "</div>"
      ],
      "text/plain": [
       "           Date     Open     High      Low    Close       Volume  \\\n",
       "0  Jan 01, 2017   963.66  1003.08   958.70   998.33  147,775,000   \n",
       "1  Jan 02, 2017   998.62  1031.39   996.70  1021.75  222,185,000   \n",
       "2  Jan 03, 2017  1021.60  1044.08  1021.60  1043.84  185,168,000   \n",
       "3  Jan 04, 2017  1044.40  1159.42  1044.40  1154.73  344,946,000   \n",
       "4  Jan 05, 2017  1156.73  1191.10   910.42  1013.38  510,199,000   \n",
       "\n",
       "       Market Cap  \n",
       "0  15,491,200,000  \n",
       "1  16,055,100,000  \n",
       "2  16,426,600,000  \n",
       "3  16,795,400,000  \n",
       "4  18,604,000,000  "
      ]
     },
     "execution_count": 20,
     "metadata": {},
     "output_type": "execute_result"
    }
   ],
   "source": [
    "# reverte \n",
    "rev_btc = btc_plt.iloc[::-1].reset_index(drop=True)\n",
    "rev_btc.head(5)"
   ]
  },
  {
   "cell_type": "code",
   "execution_count": 21,
   "metadata": {},
   "outputs": [
    {
     "data": {
      "image/png": "[encoded data removed]",
      "text/plain": [
       "<Figure size 432x288 with 1 Axes>"
      ]
     },
     "metadata": {
      "needs_background": "light"
     },
     "output_type": "display_data"
    }
   ],
   "source": [
    "rev_btc[\"Close\"].plot(title=\"Bitcoin: Close prices in 2017\");"
   ]
  },
  {
   "cell_type": "code",
   "execution_count": 22,
   "metadata": {},
   "outputs": [],
   "source": [
    "# bitcoin_price = pd.read_csv(ex1_path + '/data/bitcoin_price.csv')  #, index_col=0, parse_dates=True)"
   ]
  },
  {
   "cell_type": "code",
   "execution_count": 23,
   "metadata": {},
   "outputs": [],
   "source": [
    "# bitcoin_price.head(5)"
   ]
  },
  {
   "cell_type": "code",
   "execution_count": 24,
   "metadata": {},
   "outputs": [],
   "source": [
    "# bitcoin_price[\"Close\"].plot()"
   ]
  },
  {
   "cell_type": "code",
   "execution_count": 25,
   "metadata": {},
   "outputs": [],
   "source": [
    "# bitcoin_price_test = bitcoin_price.rename(columns={\"Date\": \"datetime\"})\n",
    "# bitcoin_price_test"
   ]
  },
  {
   "cell_type": "code",
   "execution_count": 26,
   "metadata": {},
   "outputs": [],
   "source": [
    "# bitcoin_price_test[\"datetime\"] = pd.to_datetime(bitcoin_price_test[\"datetime\"])"
   ]
  },
  {
   "cell_type": "code",
   "execution_count": 27,
   "metadata": {},
   "outputs": [],
   "source": [
    "# tmin = bitcoin_price_test[\"datetime\"].min()\n",
    "# tmin"
   ]
  },
  {
   "cell_type": "code",
   "execution_count": 28,
   "metadata": {},
   "outputs": [],
   "source": [
    "# bitcoin_price_test[\"year\"] = bitcoin_price_test[\"datetime\"].dt.year"
   ]
  },
  {
   "cell_type": "code",
   "execution_count": 29,
   "metadata": {},
   "outputs": [],
   "source": [
    "# bitcoin_price_test.head()"
   ]
  },
  {
   "cell_type": "code",
   "execution_count": 30,
   "metadata": {},
   "outputs": [],
   "source": [
    "# test = bitcoin_price_test.groupby(bitcoin_price_test[\"datetime\"].dt.year)[\"Close\"].max()"
   ]
  },
  {
   "cell_type": "code",
   "execution_count": 31,
   "metadata": {},
   "outputs": [],
   "source": [
    "# test"
   ]
  },
  {
   "cell_type": "code",
   "execution_count": 32,
   "metadata": {},
   "outputs": [],
   "source": [
    "# btc_2017 = bitcoin_price_test.pivot(index=\"datetime\", columns=\"datetime\", values=\"Close\")"
   ]
  },
  {
   "cell_type": "code",
   "execution_count": 33,
   "metadata": {},
   "outputs": [],
   "source": [
    "# bitcoin_price_2017 = bitcoin_price.iloc[51: 416,:]"
   ]
  },
  {
   "cell_type": "code",
   "execution_count": 34,
   "metadata": {},
   "outputs": [],
   "source": [
    "# bitcoin_price_2017[\"Close\"].plot()"
   ]
  },
  {
   "cell_type": "code",
   "execution_count": 35,
   "metadata": {},
   "outputs": [],
   "source": [
    "# New\n",
    "\n",
    "# bitcoin_price = pd.read_csv(ex1_path + '/data/bitcoin_price.csv', index_col=0, parse_dates=True)"
   ]
  },
  {
   "cell_type": "code",
   "execution_count": 36,
   "metadata": {},
   "outputs": [],
   "source": [
    "# bitcoin_price"
   ]
  },
  {
   "cell_type": "code",
   "execution_count": 37,
   "metadata": {},
   "outputs": [],
   "source": [
    "\n",
    "import datetime as dt\n"
   ]
  },
  {
   "cell_type": "code",
   "execution_count": 38,
   "metadata": {},
   "outputs": [],
   "source": [
    "# start = bitcoin_price.index.searchsorted(dt.datetime(2017, 1, 1))\n",
    "# end = bitcoin_price.index.searchsorted(dt.datetime(2017, 12, 31))\n",
    "# start = bitcoin_price.index.searchsorted(\"2017-01-01\")\n",
    "# end = bitcoin_price.index.searchsorted(\"2017-12-31\")\n",
    "# print(f\"start = {start}: end = {end}\")"
   ]
  },
  {
   "cell_type": "code",
   "execution_count": 39,
   "metadata": {},
   "outputs": [],
   "source": [
    "# btc_2017 = bitcoin_price['20170101':'20171231']\n",
    "# btc_2017.head(1)"
   ]
  },
  {
   "cell_type": "code",
   "execution_count": 40,
   "metadata": {},
   "outputs": [],
   "source": [
    "# bitcoin_price.sort_index('Date')"
   ]
  },
  {
   "cell_type": "code",
   "execution_count": 41,
   "metadata": {},
   "outputs": [],
   "source": [
    "# Set the Index to be the Date\n",
    "btc_tbl['Date'] = pd.to_datetime(btc_tbl['Date'], format='%b %d, %Y')\n",
    "btc_tbl.set_index('Date', inplace=True)\n",
    "\n"
   ]
  },
  {
   "cell_type": "code",
   "execution_count": 42,
   "metadata": {},
   "outputs": [],
   "source": [
    "# Sort the Data\n",
    "btc_tbl = btc_tbl.sort_values('Date')\n",
    "\n"
   ]
  },
  {
   "cell_type": "code",
   "execution_count": 43,
   "metadata": {},
   "outputs": [
    {
     "data": {
      "text/html": [
       "<div>\n",
       "<style scoped>\n",
       "    .dataframe tbody tr th:only-of-type {\n",
       "        vertical-align: middle;\n",
       "    }\n",
       "\n",
       "    .dataframe tbody tr th {\n",
       "        vertical-align: top;\n",
       "    }\n",
       "\n",
       "    .dataframe thead th {\n",
       "        text-align: right;\n",
       "    }\n",
       "</style>\n",
       "<table border=\"1\" class=\"dataframe\">\n",
       "  <thead>\n",
       "    <tr style=\"text-align: right;\">\n",
       "      <th></th>\n",
       "      <th>Open</th>\n",
       "      <th>High</th>\n",
       "      <th>Low</th>\n",
       "      <th>Close</th>\n",
       "      <th>Volume</th>\n",
       "      <th>Market Cap</th>\n",
       "    </tr>\n",
       "    <tr>\n",
       "      <th>Date</th>\n",
       "      <th></th>\n",
       "      <th></th>\n",
       "      <th></th>\n",
       "      <th></th>\n",
       "      <th></th>\n",
       "      <th></th>\n",
       "    </tr>\n",
       "  </thead>\n",
       "  <tbody>\n",
       "    <tr>\n",
       "      <th>2017-01-01</th>\n",
       "      <td>963.66</td>\n",
       "      <td>1003.08</td>\n",
       "      <td>958.70</td>\n",
       "      <td>998.33</td>\n",
       "      <td>147,775,000</td>\n",
       "      <td>15,491,200,000</td>\n",
       "    </tr>\n",
       "    <tr>\n",
       "      <th>2017-01-02</th>\n",
       "      <td>998.62</td>\n",
       "      <td>1031.39</td>\n",
       "      <td>996.70</td>\n",
       "      <td>1021.75</td>\n",
       "      <td>222,185,000</td>\n",
       "      <td>16,055,100,000</td>\n",
       "    </tr>\n",
       "    <tr>\n",
       "      <th>2017-01-03</th>\n",
       "      <td>1021.60</td>\n",
       "      <td>1044.08</td>\n",
       "      <td>1021.60</td>\n",
       "      <td>1043.84</td>\n",
       "      <td>185,168,000</td>\n",
       "      <td>16,426,600,000</td>\n",
       "    </tr>\n",
       "    <tr>\n",
       "      <th>2017-01-04</th>\n",
       "      <td>1044.40</td>\n",
       "      <td>1159.42</td>\n",
       "      <td>1044.40</td>\n",
       "      <td>1154.73</td>\n",
       "      <td>344,946,000</td>\n",
       "      <td>16,795,400,000</td>\n",
       "    </tr>\n",
       "    <tr>\n",
       "      <th>2017-01-05</th>\n",
       "      <td>1156.73</td>\n",
       "      <td>1191.10</td>\n",
       "      <td>910.42</td>\n",
       "      <td>1013.38</td>\n",
       "      <td>510,199,000</td>\n",
       "      <td>18,604,000,000</td>\n",
       "    </tr>\n",
       "    <tr>\n",
       "      <th>...</th>\n",
       "      <td>...</td>\n",
       "      <td>...</td>\n",
       "      <td>...</td>\n",
       "      <td>...</td>\n",
       "      <td>...</td>\n",
       "      <td>...</td>\n",
       "    </tr>\n",
       "    <tr>\n",
       "      <th>2017-12-27</th>\n",
       "      <td>16163.50</td>\n",
       "      <td>16930.90</td>\n",
       "      <td>15114.30</td>\n",
       "      <td>15838.50</td>\n",
       "      <td>12,487,600,000</td>\n",
       "      <td>270,976,000,000</td>\n",
       "    </tr>\n",
       "    <tr>\n",
       "      <th>2017-12-28</th>\n",
       "      <td>15864.10</td>\n",
       "      <td>15888.40</td>\n",
       "      <td>13937.30</td>\n",
       "      <td>14606.50</td>\n",
       "      <td>12,336,500,000</td>\n",
       "      <td>265,988,000,000</td>\n",
       "    </tr>\n",
       "    <tr>\n",
       "      <th>2017-12-29</th>\n",
       "      <td>14695.80</td>\n",
       "      <td>15279.00</td>\n",
       "      <td>14307.00</td>\n",
       "      <td>14656.20</td>\n",
       "      <td>13,025,500,000</td>\n",
       "      <td>246,428,000,000</td>\n",
       "    </tr>\n",
       "    <tr>\n",
       "      <th>2017-12-30</th>\n",
       "      <td>14681.90</td>\n",
       "      <td>14681.90</td>\n",
       "      <td>12350.10</td>\n",
       "      <td>12952.20</td>\n",
       "      <td>14,452,600,000</td>\n",
       "      <td>246,224,000,000</td>\n",
       "    </tr>\n",
       "    <tr>\n",
       "      <th>2017-12-31</th>\n",
       "      <td>12897.70</td>\n",
       "      <td>14377.40</td>\n",
       "      <td>12755.60</td>\n",
       "      <td>14156.40</td>\n",
       "      <td>12,136,300,000</td>\n",
       "      <td>216,326,000,000</td>\n",
       "    </tr>\n",
       "  </tbody>\n",
       "</table>\n",
       "<p>365 rows × 6 columns</p>\n",
       "</div>"
      ],
      "text/plain": [
       "                Open      High       Low     Close          Volume  \\\n",
       "Date                                                                 \n",
       "2017-01-01    963.66   1003.08    958.70    998.33     147,775,000   \n",
       "2017-01-02    998.62   1031.39    996.70   1021.75     222,185,000   \n",
       "2017-01-03   1021.60   1044.08   1021.60   1043.84     185,168,000   \n",
       "2017-01-04   1044.40   1159.42   1044.40   1154.73     344,946,000   \n",
       "2017-01-05   1156.73   1191.10    910.42   1013.38     510,199,000   \n",
       "...              ...       ...       ...       ...             ...   \n",
       "2017-12-27  16163.50  16930.90  15114.30  15838.50  12,487,600,000   \n",
       "2017-12-28  15864.10  15888.40  13937.30  14606.50  12,336,500,000   \n",
       "2017-12-29  14695.80  15279.00  14307.00  14656.20  13,025,500,000   \n",
       "2017-12-30  14681.90  14681.90  12350.10  12952.20  14,452,600,000   \n",
       "2017-12-31  12897.70  14377.40  12755.60  14156.40  12,136,300,000   \n",
       "\n",
       "                 Market Cap  \n",
       "Date                         \n",
       "2017-01-01   15,491,200,000  \n",
       "2017-01-02   16,055,100,000  \n",
       "2017-01-03   16,426,600,000  \n",
       "2017-01-04   16,795,400,000  \n",
       "2017-01-05   18,604,000,000  \n",
       "...                     ...  \n",
       "2017-12-27  270,976,000,000  \n",
       "2017-12-28  265,988,000,000  \n",
       "2017-12-29  246,428,000,000  \n",
       "2017-12-30  246,224,000,000  \n",
       "2017-12-31  216,326,000,000  \n",
       "\n",
       "[365 rows x 6 columns]"
      ]
     },
     "execution_count": 43,
     "metadata": {},
     "output_type": "execute_result"
    }
   ],
   "source": [
    "# Slice the Data\n",
    "From = '2017-01-01'\n",
    "To   = '2017-12-31'\n",
    "df_Z = btc_tbl.loc[From:To,:]\n",
    "df_Z"
   ]
  },
  {
   "cell_type": "code",
   "execution_count": 46,
   "metadata": {},
   "outputs": [
    {
     "data": {
      "text/html": [
       "<div>\n",
       "<style scoped>\n",
       "    .dataframe tbody tr th:only-of-type {\n",
       "        vertical-align: middle;\n",
       "    }\n",
       "\n",
       "    .dataframe tbody tr th {\n",
       "        vertical-align: top;\n",
       "    }\n",
       "\n",
       "    .dataframe thead th {\n",
       "        text-align: right;\n",
       "    }\n",
       "</style>\n",
       "<table border=\"1\" class=\"dataframe\">\n",
       "  <thead>\n",
       "    <tr style=\"text-align: right;\">\n",
       "      <th></th>\n",
       "      <th>Open</th>\n",
       "      <th>High</th>\n",
       "      <th>Low</th>\n",
       "      <th>Close</th>\n",
       "      <th>Volume</th>\n",
       "      <th>Market Cap</th>\n",
       "    </tr>\n",
       "  </thead>\n",
       "  <tbody>\n",
       "    <tr>\n",
       "      <th>0</th>\n",
       "      <td>12897.7</td>\n",
       "      <td>14377.4</td>\n",
       "      <td>12755.6</td>\n",
       "      <td>14156.4</td>\n",
       "      <td>12,136,300,000</td>\n",
       "      <td>216,326,000,000</td>\n",
       "    </tr>\n",
       "    <tr>\n",
       "      <th>1</th>\n",
       "      <td>14681.9</td>\n",
       "      <td>14681.9</td>\n",
       "      <td>12350.1</td>\n",
       "      <td>12952.2</td>\n",
       "      <td>14,452,600,000</td>\n",
       "      <td>246,224,000,000</td>\n",
       "    </tr>\n",
       "    <tr>\n",
       "      <th>2</th>\n",
       "      <td>14695.8</td>\n",
       "      <td>15279.0</td>\n",
       "      <td>14307.0</td>\n",
       "      <td>14656.2</td>\n",
       "      <td>13,025,500,000</td>\n",
       "      <td>246,428,000,000</td>\n",
       "    </tr>\n",
       "    <tr>\n",
       "      <th>3</th>\n",
       "      <td>15864.1</td>\n",
       "      <td>15888.4</td>\n",
       "      <td>13937.3</td>\n",
       "      <td>14606.5</td>\n",
       "      <td>12,336,500,000</td>\n",
       "      <td>265,988,000,000</td>\n",
       "    </tr>\n",
       "    <tr>\n",
       "      <th>4</th>\n",
       "      <td>16163.5</td>\n",
       "      <td>16930.9</td>\n",
       "      <td>15114.3</td>\n",
       "      <td>15838.5</td>\n",
       "      <td>12,487,600,000</td>\n",
       "      <td>270,976,000,000</td>\n",
       "    </tr>\n",
       "  </tbody>\n",
       "</table>\n",
       "</div>"
      ],
      "text/plain": [
       "      Open     High      Low    Close          Volume       Market Cap\n",
       "0  12897.7  14377.4  12755.6  14156.4  12,136,300,000  216,326,000,000\n",
       "1  14681.9  14681.9  12350.1  12952.2  14,452,600,000  246,224,000,000\n",
       "2  14695.8  15279.0  14307.0  14656.2  13,025,500,000  246,428,000,000\n",
       "3  15864.1  15888.4  13937.3  14606.5  12,336,500,000  265,988,000,000\n",
       "4  16163.5  16930.9  15114.3  15838.5  12,487,600,000  270,976,000,000"
      ]
     },
     "execution_count": 46,
     "metadata": {},
     "output_type": "execute_result"
    }
   ],
   "source": [
    "# reverte \n",
    "rev_df_Z = df_Z.iloc[::-1].reset_index(drop=True)\n",
    "rev_df_Z.head(5)"
   ]
  },
  {
   "cell_type": "code",
   "execution_count": 47,
   "metadata": {},
   "outputs": [
    {
     "data": {
      "image/png": "[encoded data removed]",
      "text/plain": [
       "<Figure size 432x288 with 1 Axes>"
      ]
     },
     "metadata": {
      "needs_background": "light"
     },
     "output_type": "display_data"
    }
   ],
   "source": [
    "df_Z[\"Close\"].plot(title=\"Bitcoin: Close prices in 2017\");"
   ]
  },
  {
   "cell_type": "code",
   "execution_count": null,
   "metadata": {},
   "outputs": [],
   "source": []
  }
 ],
 "metadata": {
  "kernelspec": {
   "display_name": "Python 3",
   "language": "python",
   "name": "python3"
  },
  "language_info": {
   "codemirror_mode": {
    "name": "ipython",
    "version": 3
   },
   "file_extension": ".py",
   "mimetype": "text/x-python",
   "name": "python",
   "nbconvert_exporter": "python",
   "pygments_lexer": "ipython3",
   "version": "3.7.6"
  }
 },
 "nbformat": 4,
 "nbformat_minor": 4
}
